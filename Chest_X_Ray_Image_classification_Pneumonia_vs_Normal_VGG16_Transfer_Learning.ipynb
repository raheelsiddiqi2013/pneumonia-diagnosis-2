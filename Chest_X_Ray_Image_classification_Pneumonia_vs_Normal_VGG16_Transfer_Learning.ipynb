{
 "cells": [
  {
   "cell_type": "markdown",
   "metadata": {},
   "source": [
    "# Automated Chest X-ray based Pneumonia Diagnosis using Data Augmentation and VGG16 based Transfer Learning \n",
    "The author of this notebook is **Dr Raheel Siddiqi** on *04-06-2019*. He is a *Senior Assistant Professor* at Bahria University, Karachi Campus, Pakistan. His research interests include *Medical Imaging*, *Computer Vision* and *Deep Learning*.\n",
    "\n",
    "The objective of the experiment (presented in this notebook) is to evaluate the effectiveness of VGG16 pre-trained model when employed to diagnose Pneumonia (based on Chest X-ray images). The diagnosis process comprises of classifying Chest X-ray images into one of the two classes: (a) Normal, (b) Pneumonia.\n",
    "\n",
    "The dataset is downloded from [kaggle.com](https://www.kaggle.com/paultimothymooney/chest-xray-pneumonia). The dataset contains 5,863 X-Ray images (JPEG) and 2 categories (Pneumonia/Normal)."
   ]
  },
  {
   "cell_type": "markdown",
   "metadata": {},
   "source": [
    "## Tensorflow and Keras version used"
   ]
  },
  {
   "cell_type": "code",
   "execution_count": 1,
   "metadata": {},
   "outputs": [
    {
     "name": "stdout",
     "output_type": "stream",
     "text": [
      "Tensorflow Version:  1.13.1\n",
      "Keras Version:  2.2.4-tf\n"
     ]
    }
   ],
   "source": [
    "import tensorflow as tf\n",
    "from tensorflow.python import keras\n",
    "\n",
    "print('Tensorflow Version: ', tf.__version__)\n",
    "print('Keras Version: ', keras.__version__)"
   ]
  },
  {
   "cell_type": "markdown",
   "metadata": {},
   "source": [
    "## Setting up the Model"
   ]
  },
  {
   "cell_type": "code",
   "execution_count": 2,
   "metadata": {},
   "outputs": [
    {
     "name": "stdout",
     "output_type": "stream",
     "text": [
      "WARNING:tensorflow:From C:\\Users\\Raheel\\Anaconda3\\envs\\EnvName\\lib\\site-packages\\tensorflow\\python\\ops\\resource_variable_ops.py:435: colocate_with (from tensorflow.python.framework.ops) is deprecated and will be removed in a future version.\n",
      "Instructions for updating:\n",
      "Colocations handled automatically by placer.\n"
     ]
    }
   ],
   "source": [
    "from tensorflow.python.keras.applications import VGG16\n",
    "\n",
    "conv_base=VGG16(weights='imagenet',include_top=False,input_shape=(150,150,3))"
   ]
  },
  {
   "cell_type": "code",
   "execution_count": 3,
   "metadata": {},
   "outputs": [
    {
     "name": "stdout",
     "output_type": "stream",
     "text": [
      "_________________________________________________________________\n",
      "Layer (type)                 Output Shape              Param #   \n",
      "=================================================================\n",
      "input_1 (InputLayer)         (None, 150, 150, 3)       0         \n",
      "_________________________________________________________________\n",
      "block1_conv1 (Conv2D)        (None, 150, 150, 64)      1792      \n",
      "_________________________________________________________________\n",
      "block1_conv2 (Conv2D)        (None, 150, 150, 64)      36928     \n",
      "_________________________________________________________________\n",
      "block1_pool (MaxPooling2D)   (None, 75, 75, 64)        0         \n",
      "_________________________________________________________________\n",
      "block2_conv1 (Conv2D)        (None, 75, 75, 128)       73856     \n",
      "_________________________________________________________________\n",
      "block2_conv2 (Conv2D)        (None, 75, 75, 128)       147584    \n",
      "_________________________________________________________________\n",
      "block2_pool (MaxPooling2D)   (None, 37, 37, 128)       0         \n",
      "_________________________________________________________________\n",
      "block3_conv1 (Conv2D)        (None, 37, 37, 256)       295168    \n",
      "_________________________________________________________________\n",
      "block3_conv2 (Conv2D)        (None, 37, 37, 256)       590080    \n",
      "_________________________________________________________________\n",
      "block3_conv3 (Conv2D)        (None, 37, 37, 256)       590080    \n",
      "_________________________________________________________________\n",
      "block3_pool (MaxPooling2D)   (None, 18, 18, 256)       0         \n",
      "_________________________________________________________________\n",
      "block4_conv1 (Conv2D)        (None, 18, 18, 512)       1180160   \n",
      "_________________________________________________________________\n",
      "block4_conv2 (Conv2D)        (None, 18, 18, 512)       2359808   \n",
      "_________________________________________________________________\n",
      "block4_conv3 (Conv2D)        (None, 18, 18, 512)       2359808   \n",
      "_________________________________________________________________\n",
      "block4_pool (MaxPooling2D)   (None, 9, 9, 512)         0         \n",
      "_________________________________________________________________\n",
      "block5_conv1 (Conv2D)        (None, 9, 9, 512)         2359808   \n",
      "_________________________________________________________________\n",
      "block5_conv2 (Conv2D)        (None, 9, 9, 512)         2359808   \n",
      "_________________________________________________________________\n",
      "block5_conv3 (Conv2D)        (None, 9, 9, 512)         2359808   \n",
      "_________________________________________________________________\n",
      "block5_pool (MaxPooling2D)   (None, 4, 4, 512)         0         \n",
      "=================================================================\n",
      "Total params: 14,714,688\n",
      "Trainable params: 14,714,688\n",
      "Non-trainable params: 0\n",
      "_________________________________________________________________\n"
     ]
    }
   ],
   "source": [
    "conv_base.summary()"
   ]
  },
  {
   "cell_type": "code",
   "execution_count": 4,
   "metadata": {},
   "outputs": [],
   "source": [
    "import os\n",
    "import numpy as np\n",
    "from tensorflow.python.keras.preprocessing.image import ImageDataGenerator\n",
    "from tensorflow.python.keras import models\n",
    "from tensorflow.python.keras import layers\n",
    "from tensorflow.python.keras.callbacks import ModelCheckpoint\n",
    "from tensorflow.python.keras import optimizers\n",
    "\n",
    "model = models.Sequential()\n",
    "model.add(conv_base)\n",
    "model.add(layers.Flatten())\n",
    "model.add(layers.Dense(512, activation='relu'))\n",
    "model.add(layers.Dense(2, activation='softmax'))\n",
    "model.compile(loss='categorical_crossentropy',optimizer=optimizers.Adam(lr=1e-4),metrics=['categorical_accuracy'])\n",
    "filepath=\"VGG16_Chest_X_Ray_Image_Classification_Pneumonia_vs_Normal_best_model.h5\"\n",
    "checkpoint = ModelCheckpoint(filepath, save_best_only=True)\n",
    "callbacks_list = [checkpoint]"
   ]
  },
  {
   "cell_type": "code",
   "execution_count": 5,
   "metadata": {},
   "outputs": [
    {
     "name": "stdout",
     "output_type": "stream",
     "text": [
      "_________________________________________________________________\n",
      "Layer (type)                 Output Shape              Param #   \n",
      "=================================================================\n",
      "vgg16 (Model)                (None, 4, 4, 512)         14714688  \n",
      "_________________________________________________________________\n",
      "flatten (Flatten)            (None, 8192)              0         \n",
      "_________________________________________________________________\n",
      "dense (Dense)                (None, 512)               4194816   \n",
      "_________________________________________________________________\n",
      "dense_1 (Dense)              (None, 2)                 1026      \n",
      "=================================================================\n",
      "Total params: 18,910,530\n",
      "Trainable params: 18,910,530\n",
      "Non-trainable params: 0\n",
      "_________________________________________________________________\n"
     ]
    }
   ],
   "source": [
    "model.summary()"
   ]
  },
  {
   "cell_type": "markdown",
   "metadata": {},
   "source": [
    "## Setting up Training and Validation Data for the experiment"
   ]
  },
  {
   "cell_type": "code",
   "execution_count": 6,
   "metadata": {},
   "outputs": [],
   "source": [
    "image_height = 150\n",
    "image_width = 150\n",
    "batch_size = 10\n",
    "no_of_epochs  = 50\n",
    "number_of_training_samples=5216\n",
    "number_of_test_samples=624"
   ]
  },
  {
   "cell_type": "code",
   "execution_count": 7,
   "metadata": {},
   "outputs": [],
   "source": [
    "train_dir='D:\\\\TensorFlow Programs\\\\Diagnosis of Pneumonia based on Chest X-Rays\\\\chest-xray-pneumonia\\\\chest_xray\\\\chest_xray\\\\train'\n",
    "validation_dir='D:\\\\TensorFlow Programs\\\\Diagnosis of Pneumonia based on Chest X-Rays\\\\chest-xray-pneumonia\\\\chest_xray\\\\chest_xray\\\\test'"
   ]
  },
  {
   "cell_type": "code",
   "execution_count": 8,
   "metadata": {},
   "outputs": [],
   "source": [
    "train_datagen = ImageDataGenerator(rescale=1./255,\n",
    "                                   rotation_range=15,\n",
    "                                   shear_range=0.2,\n",
    "                                   zoom_range=0.2\n",
    "                                   )\n",
    "\n",
    "test_datagen = ImageDataGenerator(rescale=1./255)"
   ]
  },
  {
   "cell_type": "code",
   "execution_count": 9,
   "metadata": {},
   "outputs": [
    {
     "name": "stdout",
     "output_type": "stream",
     "text": [
      "Found 5216 images belonging to 2 classes.\n",
      "Found 624 images belonging to 2 classes.\n"
     ]
    }
   ],
   "source": [
    "training_set = train_datagen.flow_from_directory(train_dir,target_size=(image_width, image_height),batch_size=batch_size)\n",
    "\n",
    "test_set = test_datagen.flow_from_directory(validation_dir,target_size=(image_width, image_height),batch_size=batch_size,shuffle=False)"
   ]
  },
  {
   "cell_type": "markdown",
   "metadata": {},
   "source": [
    "## Model Training"
   ]
  },
  {
   "cell_type": "code",
   "execution_count": 9,
   "metadata": {},
   "outputs": [
    {
     "name": "stdout",
     "output_type": "stream",
     "text": [
      "WARNING:tensorflow:From C:\\Users\\Raheel\\Anaconda3\\envs\\EnvName\\lib\\site-packages\\tensorflow\\python\\ops\\math_ops.py:3066: to_int32 (from tensorflow.python.ops.math_ops) is deprecated and will be removed in a future version.\n",
      "Instructions for updating:\n",
      "Use tf.cast instead.\n",
      "Epoch 1/50\n",
      "63/63 [==============================] - 11s 177ms/step - loss: 0.2216 - categorical_accuracy: 0.9295\n",
      "522/522 [==============================] - 188s 359ms/step - loss: 0.2293 - categorical_accuracy: 0.9036 - val_loss: 0.2216 - val_categorical_accuracy: 0.9295\n",
      "Epoch 2/50\n",
      "63/63 [==============================] - 8s 122ms/step - loss: 0.2229 - categorical_accuracy: 0.9215\n",
      "522/522 [==============================] - 126s 242ms/step - loss: 0.1413 - categorical_accuracy: 0.9484 - val_loss: 0.2229 - val_categorical_accuracy: 0.9215\n",
      "Epoch 3/50\n",
      "63/63 [==============================] - 9s 141ms/step - loss: 0.3788 - categorical_accuracy: 0.9071\n",
      "522/522 [==============================] - 139s 267ms/step - loss: 0.1295 - categorical_accuracy: 0.9475 - val_loss: 0.3788 - val_categorical_accuracy: 0.9071\n",
      "Epoch 4/50\n",
      "63/63 [==============================] - 7s 107ms/step - loss: 0.3201 - categorical_accuracy: 0.9327\n",
      "522/522 [==============================] - 124s 237ms/step - loss: 0.1027 - categorical_accuracy: 0.9609 - val_loss: 0.3201 - val_categorical_accuracy: 0.9327\n",
      "Epoch 5/50\n",
      "63/63 [==============================] - 7s 116ms/step - loss: 0.1739 - categorical_accuracy: 0.9343\n",
      "522/522 [==============================] - 125s 239ms/step - loss: 0.0906 - categorical_accuracy: 0.9643 - val_loss: 0.1739 - val_categorical_accuracy: 0.9343\n",
      "Epoch 6/50\n",
      "63/63 [==============================] - 8s 128ms/step - loss: 0.1737 - categorical_accuracy: 0.9519\n",
      "522/522 [==============================] - 128s 245ms/step - loss: 0.0848 - categorical_accuracy: 0.9711 - val_loss: 0.1737 - val_categorical_accuracy: 0.9519\n",
      "Epoch 7/50\n",
      "63/63 [==============================] - 8s 120ms/step - loss: 0.2512 - categorical_accuracy: 0.9215\n",
      "522/522 [==============================] - 126s 242ms/step - loss: 0.0824 - categorical_accuracy: 0.9707 - val_loss: 0.2512 - val_categorical_accuracy: 0.9215\n",
      "Epoch 8/50\n",
      "63/63 [==============================] - 8s 126ms/step - loss: 0.2611 - categorical_accuracy: 0.9311\n",
      "522/522 [==============================] - 125s 240ms/step - loss: 0.0793 - categorical_accuracy: 0.9691 - val_loss: 0.2611 - val_categorical_accuracy: 0.9311\n",
      "Epoch 9/50\n",
      "63/63 [==============================] - 8s 126ms/step - loss: 0.5118 - categorical_accuracy: 0.8862\n",
      "522/522 [==============================] - 125s 240ms/step - loss: 0.0707 - categorical_accuracy: 0.9735 - val_loss: 0.5118 - val_categorical_accuracy: 0.8862\n",
      "Epoch 10/50\n",
      "63/63 [==============================] - 7s 109ms/step - loss: 0.1538 - categorical_accuracy: 0.9391\n",
      "522/522 [==============================] - 125s 239ms/step - loss: 0.0656 - categorical_accuracy: 0.9776 - val_loss: 0.1538 - val_categorical_accuracy: 0.9391\n",
      "Epoch 11/50\n",
      "63/63 [==============================] - 7s 113ms/step - loss: 0.9608 - categorical_accuracy: 0.8558\n",
      "522/522 [==============================] - 124s 238ms/step - loss: 0.0664 - categorical_accuracy: 0.9770 - val_loss: 0.9608 - val_categorical_accuracy: 0.8558\n",
      "Epoch 12/50\n",
      "63/63 [==============================] - 9s 140ms/step - loss: 0.2294 - categorical_accuracy: 0.9471\n",
      "522/522 [==============================] - 127s 243ms/step - loss: 0.0612 - categorical_accuracy: 0.9766 - val_loss: 0.2294 - val_categorical_accuracy: 0.9471\n",
      "Epoch 13/50\n",
      "63/63 [==============================] - 9s 143ms/step - loss: 0.2426 - categorical_accuracy: 0.9279\n",
      "522/522 [==============================] - 129s 247ms/step - loss: 0.0539 - categorical_accuracy: 0.9814 - val_loss: 0.2426 - val_categorical_accuracy: 0.9279\n",
      "Epoch 14/50\n",
      "63/63 [==============================] - 7s 110ms/step - loss: 0.3765 - categorical_accuracy: 0.9022\n",
      "522/522 [==============================] - 129s 246ms/step - loss: 0.0538 - categorical_accuracy: 0.9793 - val_loss: 0.3765 - val_categorical_accuracy: 0.9022\n",
      "Epoch 15/50\n",
      "63/63 [==============================] - 7s 113ms/step - loss: 0.3203 - categorical_accuracy: 0.9215\n",
      "522/522 [==============================] - 125s 239ms/step - loss: 0.0442 - categorical_accuracy: 0.9843 - val_loss: 0.3203 - val_categorical_accuracy: 0.9215\n",
      "Epoch 16/50\n",
      "63/63 [==============================] - 8s 129ms/step - loss: 0.2674 - categorical_accuracy: 0.9359\n",
      "522/522 [==============================] - 126s 241ms/step - loss: 0.0466 - categorical_accuracy: 0.9818 - val_loss: 0.2674 - val_categorical_accuracy: 0.9359\n",
      "Epoch 17/50\n",
      "63/63 [==============================] - 7s 117ms/step - loss: 0.3025 - categorical_accuracy: 0.9343\n",
      "522/522 [==============================] - 124s 238ms/step - loss: 0.0431 - categorical_accuracy: 0.9862 - val_loss: 0.3025 - val_categorical_accuracy: 0.9343\n",
      "Epoch 18/50\n",
      "63/63 [==============================] - 7s 113ms/step - loss: 0.2547 - categorical_accuracy: 0.9327\n",
      "522/522 [==============================] - 126s 241ms/step - loss: 0.0365 - categorical_accuracy: 0.9864 - val_loss: 0.2547 - val_categorical_accuracy: 0.9327\n",
      "Epoch 19/50\n",
      "63/63 [==============================] - 8s 122ms/step - loss: 0.2444 - categorical_accuracy: 0.9471\n",
      "522/522 [==============================] - 127s 243ms/step - loss: 0.0439 - categorical_accuracy: 0.9824 - val_loss: 0.2444 - val_categorical_accuracy: 0.9471\n",
      "Epoch 20/50\n",
      "63/63 [==============================] - 9s 136ms/step - loss: 0.2690 - categorical_accuracy: 0.9391\n",
      "522/522 [==============================] - 127s 244ms/step - loss: 0.0563 - categorical_accuracy: 0.9812 - val_loss: 0.2690 - val_categorical_accuracy: 0.9391\n",
      "Epoch 21/50\n",
      "63/63 [==============================] - 7s 111ms/step - loss: 0.2444 - categorical_accuracy: 0.9295\n",
      "522/522 [==============================] - 135s 258ms/step - loss: 0.0330 - categorical_accuracy: 0.9891 - val_loss: 0.2444 - val_categorical_accuracy: 0.9295\n",
      "Epoch 22/50\n",
      "63/63 [==============================] - 8s 129ms/step - loss: 0.3292 - categorical_accuracy: 0.9519\n",
      "522/522 [==============================] - 129s 248ms/step - loss: 0.0310 - categorical_accuracy: 0.9885 - val_loss: 0.3292 - val_categorical_accuracy: 0.9519\n",
      "Epoch 23/50\n",
      "63/63 [==============================] - 9s 136ms/step - loss: 0.2406 - categorical_accuracy: 0.9455\n",
      "522/522 [==============================] - 127s 244ms/step - loss: 0.0398 - categorical_accuracy: 0.9866 - val_loss: 0.2406 - val_categorical_accuracy: 0.9455\n",
      "Epoch 24/50\n",
      "63/63 [==============================] - 9s 145ms/step - loss: 0.5272 - categorical_accuracy: 0.8702\n",
      "522/522 [==============================] - 128s 245ms/step - loss: 0.0311 - categorical_accuracy: 0.9889 - val_loss: 0.5272 - val_categorical_accuracy: 0.8702\n",
      "Epoch 25/50\n",
      "63/63 [==============================] - 8s 119ms/step - loss: 0.2486 - categorical_accuracy: 0.9439\n",
      "522/522 [==============================] - 125s 240ms/step - loss: 0.0368 - categorical_accuracy: 0.9862 - val_loss: 0.2486 - val_categorical_accuracy: 0.9439\n",
      "Epoch 26/50\n",
      "63/63 [==============================] - 7s 119ms/step - loss: 0.3240 - categorical_accuracy: 0.9327\n",
      "522/522 [==============================] - 129s 247ms/step - loss: 0.0265 - categorical_accuracy: 0.9893 - val_loss: 0.3240 - val_categorical_accuracy: 0.9327\n",
      "Epoch 27/50\n",
      "63/63 [==============================] - 8s 125ms/step - loss: 0.4273 - categorical_accuracy: 0.9327\n",
      "522/522 [==============================] - 125s 239ms/step - loss: 0.0281 - categorical_accuracy: 0.9910 - val_loss: 0.4273 - val_categorical_accuracy: 0.9327\n",
      "Epoch 28/50\n",
      "63/63 [==============================] - 9s 148ms/step - loss: 0.3936 - categorical_accuracy: 0.9183\n",
      "522/522 [==============================] - 128s 245ms/step - loss: 0.0295 - categorical_accuracy: 0.9898 - val_loss: 0.3936 - val_categorical_accuracy: 0.9183\n",
      "Epoch 29/50\n",
      "63/63 [==============================] - 7s 117ms/step - loss: 0.2497 - categorical_accuracy: 0.9535\n",
      "522/522 [==============================] - 128s 246ms/step - loss: 0.0294 - categorical_accuracy: 0.9900 - val_loss: 0.2497 - val_categorical_accuracy: 0.9535\n",
      "Epoch 30/50\n",
      "63/63 [==============================] - 7s 105ms/step - loss: 0.4350 - categorical_accuracy: 0.9006\n",
      "522/522 [==============================] - 124s 238ms/step - loss: 0.0340 - categorical_accuracy: 0.9896 - val_loss: 0.4350 - val_categorical_accuracy: 0.9006\n",
      "Epoch 31/50\n",
      "63/63 [==============================] - 7s 110ms/step - loss: 0.2056 - categorical_accuracy: 0.9503\n",
      "522/522 [==============================] - 126s 242ms/step - loss: 0.0245 - categorical_accuracy: 0.9925 - val_loss: 0.2056 - val_categorical_accuracy: 0.9503\n",
      "Epoch 32/50\n",
      "63/63 [==============================] - 8s 133ms/step - loss: 0.1853 - categorical_accuracy: 0.9423\n",
      "522/522 [==============================] - 126s 241ms/step - loss: 0.0244 - categorical_accuracy: 0.9916 - val_loss: 0.1853 - val_categorical_accuracy: 0.9423\n",
      "Epoch 33/50\n",
      "63/63 [==============================] - 8s 130ms/step - loss: 0.4445 - categorical_accuracy: 0.9343\n",
      "522/522 [==============================] - 126s 241ms/step - loss: 0.0218 - categorical_accuracy: 0.9923 - val_loss: 0.4445 - val_categorical_accuracy: 0.9343\n",
      "Epoch 34/50\n",
      "63/63 [==============================] - 7s 106ms/step - loss: 0.2370 - categorical_accuracy: 0.94391s - loss: 0.2781 - categori\n",
      "522/522 [==============================] - 124s 237ms/step - loss: 0.0239 - categorical_accuracy: 0.9927 - val_loss: 0.2370 - val_categorical_accuracy: 0.9439\n",
      "Epoch 35/50\n",
      "63/63 [==============================] - 7s 117ms/step - loss: 0.1960 - categorical_accuracy: 0.9503\n",
      "522/522 [==============================] - 129s 247ms/step - loss: 0.0163 - categorical_accuracy: 0.9941 - val_loss: 0.1960 - val_categorical_accuracy: 0.9503\n",
      "Epoch 36/50\n",
      "63/63 [==============================] - 7s 105ms/step - loss: 0.1724 - categorical_accuracy: 0.9471\n",
      "522/522 [==============================] - 124s 238ms/step - loss: 0.0259 - categorical_accuracy: 0.9923 - val_loss: 0.1724 - val_categorical_accuracy: 0.9471\n",
      "Epoch 37/50\n",
      "63/63 [==============================] - 8s 122ms/step - loss: 0.1802 - categorical_accuracy: 0.9551\n",
      "522/522 [==============================] - 128s 246ms/step - loss: 0.0170 - categorical_accuracy: 0.9946 - val_loss: 0.1802 - val_categorical_accuracy: 0.9551\n",
      "Epoch 38/50\n",
      "63/63 [==============================] - 7s 118ms/step - loss: 0.2947 - categorical_accuracy: 0.9423\n",
      "522/522 [==============================] - 128s 245ms/step - loss: 0.0206 - categorical_accuracy: 0.9927 - val_loss: 0.2947 - val_categorical_accuracy: 0.9423\n",
      "Epoch 39/50\n",
      "63/63 [==============================] - 8s 131ms/step - loss: 0.3997 - categorical_accuracy: 0.9503\n",
      "522/522 [==============================] - 126s 241ms/step - loss: 0.0206 - categorical_accuracy: 0.9927 - val_loss: 0.3997 - val_categorical_accuracy: 0.9503\n",
      "Epoch 40/50\n",
      "63/63 [==============================] - 8s 128ms/step - loss: 0.8909 - categorical_accuracy: 0.8782\n",
      "522/522 [==============================] - 131s 250ms/step - loss: 0.0193 - categorical_accuracy: 0.9941 - val_loss: 0.8909 - val_categorical_accuracy: 0.8782\n",
      "Epoch 41/50\n",
      "63/63 [==============================] - 9s 139ms/step - loss: 0.1519 - categorical_accuracy: 0.9487\n",
      "522/522 [==============================] - 127s 244ms/step - loss: 0.0542 - categorical_accuracy: 0.9812 - val_loss: 0.1519 - val_categorical_accuracy: 0.9487\n",
      "Epoch 42/50\n",
      "63/63 [==============================] - 8s 119ms/step - loss: 0.3094 - categorical_accuracy: 0.9535\n",
      "522/522 [==============================] - 126s 241ms/step - loss: 0.0141 - categorical_accuracy: 0.9950 - val_loss: 0.3094 - val_categorical_accuracy: 0.9535\n",
      "Epoch 43/50\n",
      "63/63 [==============================] - 7s 106ms/step - loss: 0.3488 - categorical_accuracy: 0.9423\n",
      "522/522 [==============================] - 125s 239ms/step - loss: 0.0159 - categorical_accuracy: 0.9944 - val_loss: 0.3488 - val_categorical_accuracy: 0.9423\n",
      "Epoch 44/50\n",
      "63/63 [==============================] - 8s 120ms/step - loss: 0.4176 - categorical_accuracy: 0.9455\n",
      "522/522 [==============================] - 130s 250ms/step - loss: 0.0177 - categorical_accuracy: 0.9950 - val_loss: 0.4176 - val_categorical_accuracy: 0.9455\n",
      "Epoch 45/50\n",
      "63/63 [==============================] - 8s 122ms/step - loss: 0.3848 - categorical_accuracy: 0.9359\n",
      "522/522 [==============================] - 152s 292ms/step - loss: 0.0171 - categorical_accuracy: 0.9937 - val_loss: 0.3848 - val_categorical_accuracy: 0.9359\n",
      "Epoch 46/50\n",
      "63/63 [==============================] - 8s 120ms/step - loss: 0.3405 - categorical_accuracy: 0.9311\n",
      "522/522 [==============================] - 158s 303ms/step - loss: 0.0229 - categorical_accuracy: 0.9923 - val_loss: 0.3405 - val_categorical_accuracy: 0.9311\n",
      "Epoch 47/50\n",
      "63/63 [==============================] - 7s 119ms/step - loss: 0.2794 - categorical_accuracy: 0.9455\n",
      "522/522 [==============================] - 159s 305ms/step - loss: 0.0165 - categorical_accuracy: 0.9929 - val_loss: 0.2794 - val_categorical_accuracy: 0.9455\n",
      "Epoch 48/50\n",
      "63/63 [==============================] - 8s 124ms/step - loss: 0.4942 - categorical_accuracy: 0.9487\n",
      "522/522 [==============================] - 159s 306ms/step - loss: 0.0177 - categorical_accuracy: 0.9946 - val_loss: 0.4942 - val_categorical_accuracy: 0.9487\n",
      "Epoch 49/50\n",
      "63/63 [==============================] - 7s 119ms/step - loss: 0.3437 - categorical_accuracy: 0.9375\n",
      "522/522 [==============================] - 159s 305ms/step - loss: 0.0124 - categorical_accuracy: 0.9958 - val_loss: 0.3437 - val_categorical_accuracy: 0.9375\n",
      "Epoch 50/50\n",
      "63/63 [==============================] - 12s 183ms/step - loss: 0.4149 - categorical_accuracy: 0.9423\n",
      "522/522 [==============================] - 158s 303ms/step - loss: 0.0167 - categorical_accuracy: 0.9952 - val_loss: 0.4149 - val_categorical_accuracy: 0.9423\n"
     ]
    }
   ],
   "source": [
    "import math\n",
    "\n",
    "history = model.fit_generator(\n",
    "      training_set,\n",
    "      steps_per_epoch=math.ceil(number_of_training_samples//batch_size),\n",
    "      epochs=no_of_epochs,\n",
    "      callbacks=callbacks_list,\n",
    "      validation_data=test_set,\n",
    "      validation_steps=math.ceil(number_of_test_samples//batch_size))"
   ]
  },
  {
   "cell_type": "markdown",
   "metadata": {},
   "source": [
    "## Visualizing the Training Process"
   ]
  },
  {
   "cell_type": "code",
   "execution_count": 10,
   "metadata": {},
   "outputs": [
    {
     "data": {
      "image/png": "[encoded data removed]",
      "text/plain": [
       "<Figure size 432x288 with 1 Axes>"
      ]
     },
     "metadata": {
      "needs_background": "light"
     },
     "output_type": "display_data"
    },
    {
     "data": {
      "image/png": "[encoded data removed]",
      "text/plain": [
       "<Figure size 432x288 with 1 Axes>"
      ]
     },
     "metadata": {
      "needs_background": "light"
     },
     "output_type": "display_data"
    }
   ],
   "source": [
    "import matplotlib.pyplot as plt\n",
    "%matplotlib inline\n",
    "\n",
    "acc=history.history['categorical_accuracy']\n",
    "val_acc=history.history['val_categorical_accuracy']\n",
    "loss=history.history['loss']\n",
    "val_loss=history.history['val_loss']\n",
    "epochs=range(1,len(acc)+1)\n",
    "plt.xlabel('Epochs')\n",
    "plt.ylabel('Accuracy')\n",
    "plt.plot(epochs, acc, 'bo', label='Training acc')\n",
    "plt.plot(epochs, val_acc, 'b', label='Validation acc')\n",
    "plt.title('Training and validation accuracy')\n",
    "plt.legend()\n",
    "plt.savefig('Chest_X_Ray_Image_Classification_Pneumonia_vs_Normal_VGG16_Transfer_Learning_a',format='png')\n",
    "plt.figure()\n",
    "\n",
    "plt.plot(epochs, loss, 'bo', label='Training loss')\n",
    "plt.plot(epochs, val_loss, 'b', label='Validation loss')\n",
    "plt.title('Training and validation loss')\n",
    "plt.xlabel('Epochs')\n",
    "plt.ylabel('Loss')\n",
    "plt.legend()\n",
    "plt.savefig('Chest_X_Ray_Image_Classification_Pneumonia_vs_Normal_VGG16_Transfer_Learning_b',format='png')\n",
    "plt.show()"
   ]
  },
  {
   "cell_type": "markdown",
   "metadata": {},
   "source": [
    "## Loading the Best Model"
   ]
  },
  {
   "cell_type": "code",
   "execution_count": 10,
   "metadata": {},
   "outputs": [
    {
     "name": "stdout",
     "output_type": "stream",
     "text": [
      "WARNING:tensorflow:From C:\\Users\\Raheel\\Anaconda3\\envs\\EnvName\\lib\\site-packages\\tensorflow\\python\\ops\\math_ops.py:3066: to_int32 (from tensorflow.python.ops.math_ops) is deprecated and will be removed in a future version.\n",
      "Instructions for updating:\n",
      "Use tf.cast instead.\n"
     ]
    }
   ],
   "source": [
    "from tensorflow.python.keras.models import load_model\n",
    "\n",
    "best_model = load_model('VGG16_Chest_X_Ray_Image_Classification_Pneumonia_vs_Normal_best_model.h5')"
   ]
  },
  {
   "cell_type": "markdown",
   "metadata": {},
   "source": [
    "## Evaluating the Best Model"
   ]
  },
  {
   "cell_type": "code",
   "execution_count": 11,
   "metadata": {},
   "outputs": [
    {
     "name": "stdout",
     "output_type": "stream",
     "text": [
      "63/63 [==============================] - 11s 173ms/step - loss: 0.1519 - categorical_accuracy: 0.9487\n",
      "Test-set classification accuracy: 94.87%\n"
     ]
    }
   ],
   "source": [
    "steps_test=int(number_of_test_samples/batch_size)\n",
    "result = best_model.evaluate_generator(test_set, steps=steps_test,verbose=1)\n",
    "print(\"Test-set classification accuracy: {0:.2%}\".format(result[1]))"
   ]
  },
  {
   "cell_type": "markdown",
   "metadata": {},
   "source": [
    "## Calculating Precision, Specificity and Sensitivity (Recall) values for the model\n",
    "*Precision-Recall* is a useful measure of success of prediction when the classes are very imbalanced. High *precision* relates to a low false positive rate, and high *recall* relates to a low false negative rate.\n",
    "\n",
    "Precision is defined as the number of true positives over the number of true positives plus the number of false positives. Recall is defined as the number of true positives over the number of true positives plus the number of false negatives. Please see the [link](https://scikit-learn.org/stable/auto_examples/model_selection/plot_precision_recall.html) for details.\n",
    "\n",
    "Another way of assessing a binary classification model is to compute the *sensitivity* (also called the true positive rate or the recall) and *specificity* (also called the true negative rate) of the model. *Sensitivity* indicates the percentage of sick people who are correctly identified as having the condition. *Specificity* indicates the percentage of healthy people who are correctly identified as not having the condition.\n",
    "\n",
    "But first we prepare our test data, so that later we can draw the *confusion matrix* as well as calculate *precision*, *specificity* and *sensitivity (recall)* of the model."
   ]
  },
  {
   "cell_type": "code",
   "execution_count": 12,
   "metadata": {},
   "outputs": [
    {
     "name": "stdout",
     "output_type": "stream",
     "text": [
      "Total number of test examples:  (624, 150, 150, 3)\n",
      "Total number of labels: (624, 1)\n"
     ]
    }
   ],
   "source": [
    "# Preparing test data\n",
    "import glob\n",
    "from pathlib import Path\n",
    "from tensorflow.python.keras.utils import to_categorical\n",
    "import cv2\n",
    "\n",
    "normal_cases_dir = Path('D:\\\\TensorFlow Programs\\\\Diagnosis of Pneumonia based on Chest X-Rays\\\\chest-xray-pneumonia\\\\chest_xray\\\\chest_xray\\\\test\\\\NORMAL')\n",
    "pneumonia_cases_dir = Path('D:\\\\TensorFlow Programs\\\\Diagnosis of Pneumonia based on Chest X-Rays\\\\chest-xray-pneumonia\\\\chest_xray\\\\chest_xray\\\\test\\\\PNEUMONIA')\n",
    "\n",
    "normal_cases = normal_cases_dir.glob('*.jpeg')\n",
    "pneumonia_cases = pneumonia_cases_dir.glob('*.jpeg')\n",
    "\n",
    "test_data = []\n",
    "test_labels = []\n",
    "\n",
    "for img in normal_cases:\n",
    "    img = cv2.imread(str(img))\n",
    "    img = cv2.resize(img, (image_width,image_height))\n",
    "    if img.shape[2] ==1:\n",
    "        img = np.dstack([img, img, img])\n",
    "    else:\n",
    "        img = cv2.cvtColor(img, cv2.COLOR_BGR2RGB)\n",
    "    img = img.astype(np.float32)/255.\n",
    "    label = [0]\n",
    "    test_data.append(img)\n",
    "    test_labels.append(label)\n",
    "                      \n",
    "for img in pneumonia_cases:\n",
    "    img = cv2.imread(str(img))\n",
    "    img = cv2.resize(img, (image_width,image_height))\n",
    "    if img.shape[2] ==1:\n",
    "        img = np.dstack([img, img, img])\n",
    "    else:\n",
    "        img = cv2.cvtColor(img, cv2.COLOR_BGR2RGB)\n",
    "    img = img.astype(np.float32)/255.\n",
    "    label = [1]\n",
    "    test_data.append(img)\n",
    "    test_labels.append(label)\n",
    "    \n",
    "\n",
    "test_data = np.array(test_data)\n",
    "test_labels = np.array(test_labels)\n",
    "test_labels_one_hot_encoding=to_categorical(test_labels)\n",
    "\n",
    "print(\"Total number of test examples: \", test_data.shape)\n",
    "print(\"Total number of labels:\", test_labels.shape)"
   ]
  },
  {
   "cell_type": "code",
   "execution_count": 13,
   "metadata": {},
   "outputs": [
    {
     "name": "stdout",
     "output_type": "stream",
     "text": [
      "624/624 [==============================] - 5s 8ms/sample - loss: 0.1468 - categorical_accuracy: 0.9519\n",
      "Loss on test set:  0.14678378157445993\n",
      "Accuracy on test set:  0.9519231\n"
     ]
    }
   ],
   "source": [
    "# Evaluation on test dataset\n",
    "\n",
    "test_loss, test_score = best_model.evaluate(test_data, test_labels_one_hot_encoding, batch_size=16)\n",
    "print(\"Loss on test set: \", test_loss)\n",
    "print(\"Accuracy on test set: \", test_score)"
   ]
  },
  {
   "cell_type": "code",
   "execution_count": 14,
   "metadata": {},
   "outputs": [
    {
     "name": "stdout",
     "output_type": "stream",
     "text": [
      "624/624 [==============================] - 4s 6ms/sample\n",
      "(624, 1)\n",
      "(624, 1)\n"
     ]
    }
   ],
   "source": [
    "# Get predictions\n",
    "preds = best_model.predict(test_data, batch_size=16,verbose=1)\n",
    "preds=np.around(preds)\n",
    "orig_test_labels=test_labels\n",
    "predicted_labels=np.argmax(preds,axis=1)\n",
    "predicted_labels=np.reshape(predicted_labels,(624,1))\n",
    "print(predicted_labels.shape)\n",
    "print(orig_test_labels.shape)"
   ]
  },
  {
   "cell_type": "code",
   "execution_count": 16,
   "metadata": {},
   "outputs": [
    {
     "data": {
      "text/plain": [
       "<Figure size 432x288 with 0 Axes>"
      ]
     },
     "metadata": {},
     "output_type": "display_data"
    },
    {
     "data": {
      "image/png": "[encoded data removed]",
      "text/plain": [
       "<Figure size 864x576 with 1 Axes>"
      ]
     },
     "metadata": {
      "needs_background": "light"
     },
     "output_type": "display_data"
    }
   ],
   "source": [
    "import matplotlib.pyplot as plt\n",
    "%matplotlib inline\n",
    "# Get the confusion matrix\n",
    "from sklearn.metrics import confusion_matrix\n",
    "from mlxtend.plotting import plot_confusion_matrix\n",
    "\n",
    "cm  = confusion_matrix(orig_test_labels, predicted_labels)\n",
    "plt.figure()\n",
    "plot_confusion_matrix(cm,figsize=(12,8), hide_ticks=True,cmap=plt.cm.Blues)\n",
    "plt.xticks(range(2), ['Normal', 'Pneumonia'], fontsize=16)\n",
    "plt.yticks(range(2), ['Normal', 'Pneumonia'], fontsize=16)\n",
    "plt.show()"
   ]
  },
  {
   "cell_type": "code",
   "execution_count": 17,
   "metadata": {},
   "outputs": [
    {
     "name": "stdout",
     "output_type": "stream",
     "text": [
      "Sensitivity (Recall) of the model is 0.972\n",
      "Specificity of the model is 0.919\n",
      "Precision of the model is 0.952\n"
     ]
    }
   ],
   "source": [
    "# Calculate Precision and Recall\n",
    "tn, fp, fn, tp = cm.ravel()\n",
    "\n",
    "precision = tp/(tp+fp)\n",
    "recall = tp/(tp+fn)\n",
    "specificity=tn/(tn+fp)\n",
    "\n",
    "print(\"Sensitivity (Recall) of the model is {:.3f}\".format(recall))\n",
    "print(\"Specificity of the model is {:.3f}\".format(specificity))\n",
    "print(\"Precision of the model is {:.3f}\".format(precision))"
   ]
  },
  {
   "cell_type": "markdown",
   "metadata": {},
   "source": [
    "Nice!!! So, this model has a `97.2%` sensitivity (recall), `91.9%` specificity and `95.2%` precision."
   ]
  },
  {
   "cell_type": "markdown",
   "metadata": {},
   "source": [
    "## ROC Curve and AUC for the model\n",
    "**Receiver operating characteristic** curve (a.k.a ROC) is a graphic plot that illustrates the diagnostic ability of a binary classifier system as its discrimination threshold is varied. The critical point here is \"binary classifier\" and \"varying threshold\". **Area Under the Curve** (a.k.a. AUC) is the percentage of the area that is under this ROC curve, ranging between 0 and 1.\n",
    "ROC is a great way to visualize the performance of a binary classifier, and AUC is one single number to summarize a classifier's performance. The higher the AUC is, the better the classifier."
   ]
  },
  {
   "cell_type": "code",
   "execution_count": 18,
   "metadata": {},
   "outputs": [],
   "source": [
    "from sklearn.metrics import roc_curve\n",
    "\n",
    "probs = best_model.predict_proba(test_data)\n",
    "preds = probs[:,1]\n",
    "fpr, tpr, thresholds = roc_curve(test_labels.ravel(), preds)"
   ]
  },
  {
   "cell_type": "code",
   "execution_count": 29,
   "metadata": {},
   "outputs": [],
   "source": [
    "from sklearn.metrics import auc\n",
    "auc_var = auc(fpr, tpr)"
   ]
  },
  {
   "cell_type": "code",
   "execution_count": 30,
   "metadata": {},
   "outputs": [
    {
     "data": {
      "image/png": "[encoded data removed]",
      "text/plain": [
       "<Figure size 432x288 with 1 Axes>"
      ]
     },
     "metadata": {
      "needs_background": "light"
     },
     "output_type": "display_data"
    }
   ],
   "source": [
    "import matplotlib.pyplot as plt\n",
    "%matplotlib inline\n",
    "plt.figure(1)\n",
    "plt.plot([0, 1], [0, 1], 'k--')\n",
    "plt.plot(fpr, tpr, label='VGG16 Transfer Learning (area = {:.3f})'.format(auc_var))\n",
    "plt.xlabel('False positive rate')\n",
    "plt.ylabel('True positive rate')\n",
    "plt.title('ROC curve')\n",
    "plt.legend(loc='best')\n",
    "plt.show()"
   ]
  },
  {
   "cell_type": "markdown",
   "metadata": {},
   "source": [
    "## Precision-Recall Curve for the Model"
   ]
  },
  {
   "cell_type": "code",
   "execution_count": 31,
   "metadata": {},
   "outputs": [],
   "source": [
    "from sklearn.metrics import precision_recall_curve\n",
    "from sklearn.metrics import f1_score\n",
    "from sklearn.metrics import average_precision_score"
   ]
  },
  {
   "cell_type": "code",
   "execution_count": 32,
   "metadata": {},
   "outputs": [],
   "source": [
    "precision, recall, thresholds = precision_recall_curve(test_labels.ravel(), preds)"
   ]
  },
  {
   "cell_type": "code",
   "execution_count": 35,
   "metadata": {},
   "outputs": [],
   "source": [
    "auc_var2 = auc(recall, precision)"
   ]
  },
  {
   "cell_type": "code",
   "execution_count": 42,
   "metadata": {},
   "outputs": [
    {
     "data": {
      "image/png": "[encoded data removed]",
      "text/plain": [
       "<Figure size 432x288 with 1 Axes>"
      ]
     },
     "metadata": {
      "needs_background": "light"
     },
     "output_type": "display_data"
    }
   ],
   "source": [
    "plt.figure()\n",
    "plt.plot(recall, precision, label='VGG16 Transfer Learning (area = {:.3f})'.format(auc_var2))\n",
    "plt.xlabel('Recall')\n",
    "plt.ylabel('Precision')\n",
    "plt.title('Precision-Recall curve')\n",
    "plt.legend(loc='best')\n",
    "plt.show()"
   ]
  },
  {
   "cell_type": "code",
   "execution_count": 41,
   "metadata": {},
   "outputs": [
    {
     "name": "stdout",
     "output_type": "stream",
     "text": [
      "Average Precision Score: 0.993\n"
     ]
    }
   ],
   "source": [
    "print('Average Precision Score: {:.3f}'.format(average_precision_score(test_labels.ravel(), preds)))"
   ]
  },
  {
   "cell_type": "code",
   "execution_count": 43,
   "metadata": {},
   "outputs": [
    {
     "name": "stdout",
     "output_type": "stream",
     "text": [
      "F1 Score: 0.962\n"
     ]
    }
   ],
   "source": [
    "print(\"F1 Score: {:.3f}\".format(f1_score(test_labels.ravel(),predicted_labels.ravel())))"
   ]
  }
 ],
 "metadata": {
  "kernelspec": {
   "display_name": "Python 3",
   "language": "python",
   "name": "python3"
  },
  "language_info": {
   "codemirror_mode": {
    "name": "ipython",
    "version": 3
   },
   "file_extension": ".py",
   "mimetype": "text/x-python",
   "name": "python",
   "nbconvert_exporter": "python",
   "pygments_lexer": "ipython3",
   "version": "3.6.8"
  }
 },
 "nbformat": 4,
 "nbformat_minor": 2
}
