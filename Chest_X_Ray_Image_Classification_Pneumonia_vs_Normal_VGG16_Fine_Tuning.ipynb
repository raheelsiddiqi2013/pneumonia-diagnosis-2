{
 "cells": [
  {
   "cell_type": "markdown",
   "metadata": {},
   "source": [
    "# Automated Chest X-ray based Pneumonia Diagnosis by Fine Tuning a VGG16-based Model for the Task\n",
    "This notebook is written by **Dr Raheel Siddiqi** on **06-06-2019**. This notebook presents an experiment to classify Chest X-ray images using *fine tuning*. The steps for fine-tuning a network are as follows:\n",
    "\n",
    "1. Add the custom network on top of an already-trained base network.\n",
    "2. Freeze the base network.\n",
    "3. Train the part that has been added.\n",
    "4. Unfreeze some layers in the base network.\n",
    "5. Jointly train both these layers and the part that has been added.\n",
    "\n",
    "The diagnosis process comprises of classifying Chest X-ray images into one of the two classes: (a) Normal, and (b) Pneumonia. The dataset is organized into 3 folders (train, test, val) and contains subfolders for each image category (Pneumonia/Normal). There are 5,863 X-Ray images (JPEG) and 2 categories (Pneumonia/Normal). The dataset has been downloded from [here](https://www.kaggle.com/paultimothymooney/chest-xray-pneumonia). \n",
    "\n",
    "Chest X-ray images (anterior-posterior) were selected from retrospective cohorts of pediatric patients of one to five years old from Guangzhou Women and Children’s Medical Center, Guangzhou. For the analysis of chest x-ray images, all chest radiographs were initially screened for quality control by removing all low quality or unreadable scans. The diagnoses for the images were then graded by two expert physicians before being cleared. In order to account for any grading errors, the evaluation set was also checked by a third expert.\n",
    "\n",
    "First I execute the first three steps (for fine tuning mentioned above) which are the same as *transfer learning*."
   ]
  },
  {
   "cell_type": "markdown",
   "metadata": {},
   "source": [
    "## Tensorflow and Keras version used"
   ]
  },
  {
   "cell_type": "code",
   "execution_count": 1,
   "metadata": {},
   "outputs": [
    {
     "name": "stdout",
     "output_type": "stream",
     "text": [
      "Tensorflow Version:  1.13.1\n",
      "Keras Version:  2.2.4-tf\n"
     ]
    }
   ],
   "source": [
    "import tensorflow as tf\n",
    "from tensorflow.python import keras\n",
    "\n",
    "print('Tensorflow Version: ', tf.__version__)\n",
    "print('Keras Version: ', keras.__version__)"
   ]
  },
  {
   "cell_type": "markdown",
   "metadata": {},
   "source": [
    "## Setting up the Model"
   ]
  },
  {
   "cell_type": "code",
   "execution_count": 2,
   "metadata": {},
   "outputs": [
    {
     "name": "stdout",
     "output_type": "stream",
     "text": [
      "WARNING:tensorflow:From C:\\Users\\Raheel\\Anaconda3\\envs\\EnvName\\lib\\site-packages\\tensorflow\\python\\ops\\resource_variable_ops.py:435: colocate_with (from tensorflow.python.framework.ops) is deprecated and will be removed in a future version.\n",
      "Instructions for updating:\n",
      "Colocations handled automatically by placer.\n"
     ]
    }
   ],
   "source": [
    "from tensorflow.python.keras.applications import VGG16\n",
    "\n",
    "conv_base=VGG16(weights='imagenet',include_top=False,input_shape=(150,150,3))"
   ]
  },
  {
   "cell_type": "code",
   "execution_count": 3,
   "metadata": {},
   "outputs": [
    {
     "name": "stdout",
     "output_type": "stream",
     "text": [
      "_________________________________________________________________\n",
      "Layer (type)                 Output Shape              Param #   \n",
      "=================================================================\n",
      "input_1 (InputLayer)         (None, 150, 150, 3)       0         \n",
      "_________________________________________________________________\n",
      "block1_conv1 (Conv2D)        (None, 150, 150, 64)      1792      \n",
      "_________________________________________________________________\n",
      "block1_conv2 (Conv2D)        (None, 150, 150, 64)      36928     \n",
      "_________________________________________________________________\n",
      "block1_pool (MaxPooling2D)   (None, 75, 75, 64)        0         \n",
      "_________________________________________________________________\n",
      "block2_conv1 (Conv2D)        (None, 75, 75, 128)       73856     \n",
      "_________________________________________________________________\n",
      "block2_conv2 (Conv2D)        (None, 75, 75, 128)       147584    \n",
      "_________________________________________________________________\n",
      "block2_pool (MaxPooling2D)   (None, 37, 37, 128)       0         \n",
      "_________________________________________________________________\n",
      "block3_conv1 (Conv2D)        (None, 37, 37, 256)       295168    \n",
      "_________________________________________________________________\n",
      "block3_conv2 (Conv2D)        (None, 37, 37, 256)       590080    \n",
      "_________________________________________________________________\n",
      "block3_conv3 (Conv2D)        (None, 37, 37, 256)       590080    \n",
      "_________________________________________________________________\n",
      "block3_pool (MaxPooling2D)   (None, 18, 18, 256)       0         \n",
      "_________________________________________________________________\n",
      "block4_conv1 (Conv2D)        (None, 18, 18, 512)       1180160   \n",
      "_________________________________________________________________\n",
      "block4_conv2 (Conv2D)        (None, 18, 18, 512)       2359808   \n",
      "_________________________________________________________________\n",
      "block4_conv3 (Conv2D)        (None, 18, 18, 512)       2359808   \n",
      "_________________________________________________________________\n",
      "block4_pool (MaxPooling2D)   (None, 9, 9, 512)         0         \n",
      "_________________________________________________________________\n",
      "block5_conv1 (Conv2D)        (None, 9, 9, 512)         2359808   \n",
      "_________________________________________________________________\n",
      "block5_conv2 (Conv2D)        (None, 9, 9, 512)         2359808   \n",
      "_________________________________________________________________\n",
      "block5_conv3 (Conv2D)        (None, 9, 9, 512)         2359808   \n",
      "_________________________________________________________________\n",
      "block5_pool (MaxPooling2D)   (None, 4, 4, 512)         0         \n",
      "=================================================================\n",
      "Total params: 14,714,688\n",
      "Trainable params: 14,714,688\n",
      "Non-trainable params: 0\n",
      "_________________________________________________________________\n"
     ]
    }
   ],
   "source": [
    "conv_base.summary()"
   ]
  },
  {
   "cell_type": "code",
   "execution_count": 4,
   "metadata": {},
   "outputs": [],
   "source": [
    "import os\n",
    "import numpy as np\n",
    "from tensorflow.python.keras.preprocessing.image import ImageDataGenerator\n",
    "from tensorflow.python.keras import models\n",
    "from tensorflow.python.keras import layers\n",
    "from tensorflow.python.keras.callbacks import ModelCheckpoint\n",
    "from tensorflow.python.keras import optimizers\n",
    "\n",
    "model = models.Sequential()\n",
    "model.add(conv_base)\n",
    "model.add(layers.Flatten())\n",
    "model.add(layers.Dense(512, activation='relu'))\n",
    "model.add(layers.Dense(2, activation='softmax'))\n",
    "model.compile(loss='categorical_crossentropy',optimizer=optimizers.Adam(lr=1e-4),metrics=['categorical_accuracy'])\n",
    "filepath=\"VGG16_fine_tuning_part_1_Pneumonia_vs_Normal_best_model.h5\"\n",
    "checkpoint = ModelCheckpoint(filepath, save_best_only=True)\n",
    "callbacks_list = [checkpoint]"
   ]
  },
  {
   "cell_type": "code",
   "execution_count": 5,
   "metadata": {},
   "outputs": [
    {
     "name": "stdout",
     "output_type": "stream",
     "text": [
      "_________________________________________________________________\n",
      "Layer (type)                 Output Shape              Param #   \n",
      "=================================================================\n",
      "vgg16 (Model)                (None, 4, 4, 512)         14714688  \n",
      "_________________________________________________________________\n",
      "flatten (Flatten)            (None, 8192)              0         \n",
      "_________________________________________________________________\n",
      "dense (Dense)                (None, 512)               4194816   \n",
      "_________________________________________________________________\n",
      "dense_1 (Dense)              (None, 2)                 1026      \n",
      "=================================================================\n",
      "Total params: 18,910,530\n",
      "Trainable params: 18,910,530\n",
      "Non-trainable params: 0\n",
      "_________________________________________________________________\n"
     ]
    }
   ],
   "source": [
    "model.summary()"
   ]
  },
  {
   "cell_type": "markdown",
   "metadata": {},
   "source": [
    "## Setting up Training and Validation Data for the Experiment"
   ]
  },
  {
   "cell_type": "code",
   "execution_count": 6,
   "metadata": {},
   "outputs": [],
   "source": [
    "image_height = 150\n",
    "image_width = 150\n",
    "batch_size = 10\n",
    "no_of_epochs  = 50\n",
    "number_of_training_samples=5216\n",
    "number_of_test_samples=624"
   ]
  },
  {
   "cell_type": "code",
   "execution_count": 7,
   "metadata": {},
   "outputs": [],
   "source": [
    "train_dir='D:\\\\TensorFlow Programs\\\\Diagnosis of Pneumonia based on Chest X-Rays\\\\chest-xray-pneumonia\\\\chest_xray\\\\chest_xray\\\\train'\n",
    "validation_dir='D:\\\\TensorFlow Programs\\\\Diagnosis of Pneumonia based on Chest X-Rays\\\\chest-xray-pneumonia\\\\chest_xray\\\\chest_xray\\\\test'"
   ]
  },
  {
   "cell_type": "code",
   "execution_count": 8,
   "metadata": {},
   "outputs": [],
   "source": [
    "from tensorflow.python.keras.preprocessing.image import ImageDataGenerator\n",
    "\n",
    "train_datagen = ImageDataGenerator(rescale=1./255,\n",
    "                                   rotation_range=15,\n",
    "                                   shear_range=0.2,\n",
    "                                   zoom_range=0.2\n",
    "                                   )\n",
    "\n",
    "test_datagen = ImageDataGenerator(rescale=1./255)"
   ]
  },
  {
   "cell_type": "code",
   "execution_count": 9,
   "metadata": {},
   "outputs": [
    {
     "name": "stdout",
     "output_type": "stream",
     "text": [
      "Found 5216 images belonging to 2 classes.\n",
      "Found 624 images belonging to 2 classes.\n"
     ]
    }
   ],
   "source": [
    "training_set = train_datagen.flow_from_directory(train_dir,target_size=(image_width, image_height),batch_size=batch_size)\n",
    "\n",
    "test_set = test_datagen.flow_from_directory(validation_dir,target_size=(image_width, image_height),batch_size=batch_size,shuffle=False)"
   ]
  },
  {
   "cell_type": "markdown",
   "metadata": {},
   "source": [
    "## Model Training"
   ]
  },
  {
   "cell_type": "code",
   "execution_count": 10,
   "metadata": {},
   "outputs": [
    {
     "name": "stdout",
     "output_type": "stream",
     "text": [
      "WARNING:tensorflow:From C:\\Users\\Raheel\\Anaconda3\\envs\\EnvName\\lib\\site-packages\\tensorflow\\python\\ops\\math_ops.py:3066: to_int32 (from tensorflow.python.ops.math_ops) is deprecated and will be removed in a future version.\n",
      "Instructions for updating:\n",
      "Use tf.cast instead.\n",
      "Epoch 1/50\n",
      "63/63 [==============================] - 11s 178ms/step - loss: 0.5023 - categorical_accuracy: 0.7660\n",
      "522/522 [==============================] - 159s 304ms/step - loss: 0.2270 - categorical_accuracy: 0.9059 - val_loss: 0.5023 - val_categorical_accuracy: 0.7660\n",
      "Epoch 2/50\n",
      "63/63 [==============================] - 8s 121ms/step - loss: 0.3993 - categorical_accuracy: 0.8926\n",
      "522/522 [==============================] - 129s 247ms/step - loss: 0.1335 - categorical_accuracy: 0.9473 - val_loss: 0.3993 - val_categorical_accuracy: 0.8926\n",
      "Epoch 3/50\n",
      "63/63 [==============================] - 7s 108ms/step - loss: 0.2673 - categorical_accuracy: 0.8942\n",
      "522/522 [==============================] - 128s 246ms/step - loss: 0.1142 - categorical_accuracy: 0.9567 - val_loss: 0.2673 - val_categorical_accuracy: 0.8942\n",
      "Epoch 4/50\n",
      "63/63 [==============================] - 7s 113ms/step - loss: 0.2177 - categorical_accuracy: 0.9327\n",
      "522/522 [==============================] - 128s 246ms/step - loss: 0.0995 - categorical_accuracy: 0.9615 - val_loss: 0.2177 - val_categorical_accuracy: 0.9327\n",
      "Epoch 5/50\n",
      "63/63 [==============================] - 7s 113ms/step - loss: 0.2278 - categorical_accuracy: 0.9327\n",
      "522/522 [==============================] - 128s 246ms/step - loss: 0.0904 - categorical_accuracy: 0.9678 - val_loss: 0.2278 - val_categorical_accuracy: 0.9327\n",
      "Epoch 6/50\n",
      "63/63 [==============================] - 7s 111ms/step - loss: 0.2829 - categorical_accuracy: 0.9215\n",
      "522/522 [==============================] - 128s 245ms/step - loss: 0.0864 - categorical_accuracy: 0.9705 - val_loss: 0.2829 - val_categorical_accuracy: 0.9215\n",
      "Epoch 7/50\n",
      "63/63 [==============================] - 7s 117ms/step - loss: 0.2446 - categorical_accuracy: 0.9279\n",
      "522/522 [==============================] - 140s 268ms/step - loss: 0.0824 - categorical_accuracy: 0.9697 - val_loss: 0.2446 - val_categorical_accuracy: 0.9279\n",
      "Epoch 8/50\n",
      "63/63 [==============================] - 7s 117ms/step - loss: 0.2371 - categorical_accuracy: 0.9183\n",
      "522/522 [==============================] - 151s 290ms/step - loss: 0.0746 - categorical_accuracy: 0.9747 - val_loss: 0.2371 - val_categorical_accuracy: 0.9183\n",
      "Epoch 9/50\n",
      "63/63 [==============================] - 7s 118ms/step - loss: 0.2925 - categorical_accuracy: 0.9199\n",
      "522/522 [==============================] - 159s 305ms/step - loss: 0.0719 - categorical_accuracy: 0.9716 - val_loss: 0.2925 - val_categorical_accuracy: 0.9199\n",
      "Epoch 10/50\n",
      "63/63 [==============================] - 7s 115ms/step - loss: 0.1614 - categorical_accuracy: 0.9327\n",
      "522/522 [==============================] - 155s 297ms/step - loss: 0.0651 - categorical_accuracy: 0.9758 - val_loss: 0.1614 - val_categorical_accuracy: 0.9327\n",
      "Epoch 11/50\n",
      "63/63 [==============================] - 7s 113ms/step - loss: 0.2141 - categorical_accuracy: 0.9423\n",
      "522/522 [==============================] - 152s 291ms/step - loss: 0.0571 - categorical_accuracy: 0.9803 - val_loss: 0.2141 - val_categorical_accuracy: 0.9423\n",
      "Epoch 12/50\n",
      "63/63 [==============================] - 8s 120ms/step - loss: 0.2662 - categorical_accuracy: 0.9343\n",
      "522/522 [==============================] - 157s 301ms/step - loss: 0.0561 - categorical_accuracy: 0.9781 - val_loss: 0.2662 - val_categorical_accuracy: 0.9343\n",
      "Epoch 13/50\n",
      "63/63 [==============================] - 8s 121ms/step - loss: 0.3346 - categorical_accuracy: 0.9071\n",
      "522/522 [==============================] - 160s 306ms/step - loss: 0.0658 - categorical_accuracy: 0.9766 - val_loss: 0.3346 - val_categorical_accuracy: 0.9071\n",
      "Epoch 14/50\n",
      "63/63 [==============================] - 8s 122ms/step - loss: 0.1775 - categorical_accuracy: 0.9455\n",
      "522/522 [==============================] - 160s 306ms/step - loss: 0.0592 - categorical_accuracy: 0.9783 - val_loss: 0.1775 - val_categorical_accuracy: 0.9455\n",
      "Epoch 15/50\n",
      "63/63 [==============================] - 7s 119ms/step - loss: 0.3713 - categorical_accuracy: 0.9167\n",
      "522/522 [==============================] - 159s 305ms/step - loss: 0.0725 - categorical_accuracy: 0.9720 - val_loss: 0.3713 - val_categorical_accuracy: 0.9167\n",
      "Epoch 16/50\n",
      "63/63 [==============================] - 8s 122ms/step - loss: 0.2385 - categorical_accuracy: 0.9423\n",
      "522/522 [==============================] - 232s 444ms/step - loss: 0.0462 - categorical_accuracy: 0.9849 - val_loss: 0.2385 - val_categorical_accuracy: 0.9423\n",
      "Epoch 17/50\n",
      "63/63 [==============================] - 8s 125ms/step - loss: 0.2694 - categorical_accuracy: 0.9471\n",
      "522/522 [==============================] - 129s 247ms/step - loss: 0.0463 - categorical_accuracy: 0.9845 - val_loss: 0.2694 - val_categorical_accuracy: 0.9471\n",
      "Epoch 18/50\n",
      "63/63 [==============================] - 8s 123ms/step - loss: 0.1971 - categorical_accuracy: 0.9423\n",
      "522/522 [==============================] - 129s 247ms/step - loss: 0.0356 - categorical_accuracy: 0.9887 - val_loss: 0.1971 - val_categorical_accuracy: 0.9423\n",
      "Epoch 19/50\n",
      "63/63 [==============================] - 8s 122ms/step - loss: 0.2755 - categorical_accuracy: 0.9295\n",
      "522/522 [==============================] - 129s 246ms/step - loss: 0.0460 - categorical_accuracy: 0.9843 - val_loss: 0.2755 - val_categorical_accuracy: 0.9295\n",
      "Epoch 20/50\n",
      "63/63 [==============================] - 8s 124ms/step - loss: 0.1672 - categorical_accuracy: 0.9583\n",
      "522/522 [==============================] - 129s 246ms/step - loss: 0.0374 - categorical_accuracy: 0.9860 - val_loss: 0.1672 - val_categorical_accuracy: 0.9583\n",
      "Epoch 21/50\n",
      "63/63 [==============================] - 8s 125ms/step - loss: 0.2050 - categorical_accuracy: 0.9583\n",
      "522/522 [==============================] - 129s 246ms/step - loss: 0.0367 - categorical_accuracy: 0.9860 - val_loss: 0.2050 - val_categorical_accuracy: 0.9583\n",
      "Epoch 22/50\n",
      "63/63 [==============================] - 8s 125ms/step - loss: 0.1939 - categorical_accuracy: 0.9455\n",
      "522/522 [==============================] - 129s 247ms/step - loss: 0.0405 - categorical_accuracy: 0.9883 - val_loss: 0.1939 - val_categorical_accuracy: 0.9455\n",
      "Epoch 23/50\n",
      "63/63 [==============================] - 8s 122ms/step - loss: 0.2247 - categorical_accuracy: 0.9471\n",
      "522/522 [==============================] - 129s 246ms/step - loss: 0.0333 - categorical_accuracy: 0.9891 - val_loss: 0.2247 - val_categorical_accuracy: 0.9471\n",
      "Epoch 24/50\n",
      "63/63 [==============================] - 8s 123ms/step - loss: 0.4501 - categorical_accuracy: 0.9231\n",
      "522/522 [==============================] - 129s 247ms/step - loss: 0.0336 - categorical_accuracy: 0.9873 - val_loss: 0.4501 - val_categorical_accuracy: 0.9231\n",
      "Epoch 25/50\n",
      "63/63 [==============================] - 8s 122ms/step - loss: 0.3313 - categorical_accuracy: 0.9455\n",
      "522/522 [==============================] - 128s 246ms/step - loss: 0.0283 - categorical_accuracy: 0.9893 - val_loss: 0.3313 - val_categorical_accuracy: 0.9455\n",
      "Epoch 26/50\n",
      "63/63 [==============================] - 8s 122ms/step - loss: 0.3578 - categorical_accuracy: 0.9391\n",
      "522/522 [==============================] - 128s 246ms/step - loss: 0.0304 - categorical_accuracy: 0.9889 - val_loss: 0.3578 - val_categorical_accuracy: 0.9391\n",
      "Epoch 27/50\n",
      "63/63 [==============================] - 8s 125ms/step - loss: 0.3520 - categorical_accuracy: 0.9471\n",
      "522/522 [==============================] - 129s 247ms/step - loss: 0.0333 - categorical_accuracy: 0.9868 - val_loss: 0.3520 - val_categorical_accuracy: 0.9471\n",
      "Epoch 28/50\n",
      "63/63 [==============================] - 8s 124ms/step - loss: 0.3357 - categorical_accuracy: 0.9343\n",
      "522/522 [==============================] - 129s 247ms/step - loss: 0.0278 - categorical_accuracy: 0.9908 - val_loss: 0.3357 - val_categorical_accuracy: 0.9343\n",
      "Epoch 29/50\n",
      "63/63 [==============================] - 8s 124ms/step - loss: 0.2552 - categorical_accuracy: 0.9503\n",
      "522/522 [==============================] - 129s 246ms/step - loss: 0.0279 - categorical_accuracy: 0.9896 - val_loss: 0.2552 - val_categorical_accuracy: 0.9503\n",
      "Epoch 30/50\n",
      "63/63 [==============================] - 8s 120ms/step - loss: 0.3639 - categorical_accuracy: 0.9359\n",
      "522/522 [==============================] - 128s 246ms/step - loss: 0.0241 - categorical_accuracy: 0.9908 - val_loss: 0.3639 - val_categorical_accuracy: 0.9359\n",
      "Epoch 31/50\n",
      "63/63 [==============================] - 8s 123ms/step - loss: 0.2926 - categorical_accuracy: 0.9439\n",
      "522/522 [==============================] - 128s 246ms/step - loss: 0.0256 - categorical_accuracy: 0.9902 - val_loss: 0.2926 - val_categorical_accuracy: 0.9439\n",
      "Epoch 32/50\n",
      "63/63 [==============================] - 8s 122ms/step - loss: 0.3620 - categorical_accuracy: 0.9295\n",
      "522/522 [==============================] - 129s 246ms/step - loss: 0.0494 - categorical_accuracy: 0.9881 - val_loss: 0.3620 - val_categorical_accuracy: 0.9295\n",
      "Epoch 33/50\n",
      "63/63 [==============================] - 8s 124ms/step - loss: 0.3429 - categorical_accuracy: 0.9423\n",
      "522/522 [==============================] - 128s 246ms/step - loss: 0.0234 - categorical_accuracy: 0.9908 - val_loss: 0.3429 - val_categorical_accuracy: 0.9423\n",
      "Epoch 34/50\n",
      "63/63 [==============================] - 8s 123ms/step - loss: 0.4178 - categorical_accuracy: 0.9071\n",
      "522/522 [==============================] - 128s 246ms/step - loss: 0.0180 - categorical_accuracy: 0.9937 - val_loss: 0.4178 - val_categorical_accuracy: 0.9071\n",
      "Epoch 35/50\n",
      "63/63 [==============================] - 8s 126ms/step - loss: 0.2642 - categorical_accuracy: 0.9439\n",
      "522/522 [==============================] - 129s 247ms/step - loss: 0.0210 - categorical_accuracy: 0.9923 - val_loss: 0.2642 - val_categorical_accuracy: 0.9439\n",
      "Epoch 36/50\n",
      "63/63 [==============================] - 8s 128ms/step - loss: 0.4490 - categorical_accuracy: 0.9343\n",
      "522/522 [==============================] - 129s 247ms/step - loss: 0.0327 - categorical_accuracy: 0.9900 - val_loss: 0.4490 - val_categorical_accuracy: 0.9343\n",
      "Epoch 37/50\n",
      "63/63 [==============================] - 8s 124ms/step - loss: 0.3052 - categorical_accuracy: 0.9503\n",
      "522/522 [==============================] - 129s 246ms/step - loss: 0.0163 - categorical_accuracy: 0.9931 - val_loss: 0.3052 - val_categorical_accuracy: 0.9503\n",
      "Epoch 38/50\n",
      "63/63 [==============================] - 8s 121ms/step - loss: 0.3997 - categorical_accuracy: 0.9519\n",
      "522/522 [==============================] - 128s 245ms/step - loss: 0.0147 - categorical_accuracy: 0.9944 - val_loss: 0.3997 - val_categorical_accuracy: 0.9519\n",
      "Epoch 39/50\n",
      "63/63 [==============================] - 8s 121ms/step - loss: 0.5392 - categorical_accuracy: 0.9263\n",
      "522/522 [==============================] - 128s 245ms/step - loss: 0.0160 - categorical_accuracy: 0.9948 - val_loss: 0.5392 - val_categorical_accuracy: 0.9263\n",
      "Epoch 40/50\n",
      "63/63 [==============================] - 7s 118ms/step - loss: 0.3999 - categorical_accuracy: 0.9455\n",
      "522/522 [==============================] - 128s 245ms/step - loss: 0.0265 - categorical_accuracy: 0.9906 - val_loss: 0.3999 - val_categorical_accuracy: 0.9455\n",
      "Epoch 41/50\n",
      "63/63 [==============================] - 7s 118ms/step - loss: 0.4720 - categorical_accuracy: 0.9423\n",
      "522/522 [==============================] - 128s 245ms/step - loss: 0.0245 - categorical_accuracy: 0.9929 - val_loss: 0.4720 - val_categorical_accuracy: 0.9423\n",
      "Epoch 42/50\n",
      "63/63 [==============================] - 8s 120ms/step - loss: 0.3517 - categorical_accuracy: 0.9391\n",
      "522/522 [==============================] - 128s 246ms/step - loss: 0.0201 - categorical_accuracy: 0.9935 - val_loss: 0.3517 - val_categorical_accuracy: 0.9391\n",
      "Epoch 43/50\n",
      "63/63 [==============================] - 7s 118ms/step - loss: 0.5547 - categorical_accuracy: 0.9279\n",
      "522/522 [==============================] - 128s 245ms/step - loss: 0.0218 - categorical_accuracy: 0.9919 - val_loss: 0.5547 - val_categorical_accuracy: 0.9279\n",
      "Epoch 44/50\n",
      "63/63 [==============================] - 7s 118ms/step - loss: 0.3518 - categorical_accuracy: 0.9407\n",
      "522/522 [==============================] - 128s 245ms/step - loss: 0.0230 - categorical_accuracy: 0.9937 - val_loss: 0.3518 - val_categorical_accuracy: 0.9407\n",
      "Epoch 45/50\n",
      "63/63 [==============================] - 7s 118ms/step - loss: 0.2993 - categorical_accuracy: 0.9567\n",
      "522/522 [==============================] - 128s 245ms/step - loss: 0.0148 - categorical_accuracy: 0.9941 - val_loss: 0.2993 - val_categorical_accuracy: 0.9567\n",
      "Epoch 46/50\n",
      "63/63 [==============================] - 7s 118ms/step - loss: 0.2868 - categorical_accuracy: 0.9503\n",
      "522/522 [==============================] - 128s 245ms/step - loss: 0.0197 - categorical_accuracy: 0.9919 - val_loss: 0.2868 - val_categorical_accuracy: 0.9503\n",
      "Epoch 47/50\n",
      "63/63 [==============================] - 7s 119ms/step - loss: 0.2707 - categorical_accuracy: 0.9519\n",
      "522/522 [==============================] - 128s 245ms/step - loss: 0.0201 - categorical_accuracy: 0.9929 - val_loss: 0.2707 - val_categorical_accuracy: 0.9519\n",
      "Epoch 48/50\n",
      "63/63 [==============================] - 7s 118ms/step - loss: 0.4252 - categorical_accuracy: 0.9231\n",
      "522/522 [==============================] - 128s 245ms/step - loss: 0.0139 - categorical_accuracy: 0.9946 - val_loss: 0.4252 - val_categorical_accuracy: 0.9231\n",
      "Epoch 49/50\n",
      "63/63 [==============================] - 7s 116ms/step - loss: 0.4278 - categorical_accuracy: 0.9439\n",
      "522/522 [==============================] - 139s 267ms/step - loss: 0.0105 - categorical_accuracy: 0.9962 - val_loss: 0.4278 - val_categorical_accuracy: 0.9439\n",
      "Epoch 50/50\n",
      "63/63 [==============================] - 7s 118ms/step - loss: 0.4082 - categorical_accuracy: 0.9295\n",
      "522/522 [==============================] - 146s 280ms/step - loss: 0.0148 - categorical_accuracy: 0.9960 - val_loss: 0.4082 - val_categorical_accuracy: 0.9295\n"
     ]
    }
   ],
   "source": [
    "import math\n",
    "\n",
    "history = model.fit_generator(\n",
    "      training_set,\n",
    "      steps_per_epoch=math.ceil(number_of_training_samples//batch_size),\n",
    "      epochs=no_of_epochs,\n",
    "      callbacks=callbacks_list,\n",
    "      validation_data=test_set,\n",
    "      validation_steps=math.ceil(number_of_test_samples//batch_size))"
   ]
  },
  {
   "cell_type": "markdown",
   "metadata": {},
   "source": [
    "## Visualizing the Training Process"
   ]
  },
  {
   "cell_type": "code",
   "execution_count": 11,
   "metadata": {},
   "outputs": [
    {
     "data": {
      "image/png": "[encoded data removed]",
      "text/plain": [
       "<Figure size 432x288 with 1 Axes>"
      ]
     },
     "metadata": {
      "needs_background": "light"
     },
     "output_type": "display_data"
    },
    {
     "data": {
      "image/png": "[encoded data removed]",
      "text/plain": [
       "<Figure size 432x288 with 1 Axes>"
      ]
     },
     "metadata": {
      "needs_background": "light"
     },
     "output_type": "display_data"
    }
   ],
   "source": [
    "import matplotlib.pyplot as plt\n",
    "%matplotlib inline\n",
    "\n",
    "acc=history.history['categorical_accuracy']\n",
    "val_acc=history.history['val_categorical_accuracy']\n",
    "loss=history.history['loss']\n",
    "val_loss=history.history['val_loss']\n",
    "epochs=range(1,len(acc)+1)\n",
    "plt.xlabel('Epochs')\n",
    "plt.ylabel('Accuracy')\n",
    "plt.plot(epochs, acc, 'bo', label='Training acc')\n",
    "plt.plot(epochs, val_acc, 'b', label='Validation acc')\n",
    "plt.title('Training and validation accuracy')\n",
    "plt.legend()\n",
    "plt.savefig('Pneumonia_vs_Normal_VGG16_Transfer_Learning_a',format='png')\n",
    "plt.figure()\n",
    "\n",
    "plt.plot(epochs, loss, 'bo', label='Training loss')\n",
    "plt.plot(epochs, val_loss, 'b', label='Validation loss')\n",
    "plt.title('Training and validation loss')\n",
    "plt.xlabel('Epochs')\n",
    "plt.ylabel('Loss')\n",
    "plt.legend()\n",
    "plt.savefig('Pneumonia_vs_Normal_VGG16_Transfer_Learning_b',format='png')\n",
    "plt.show()"
   ]
  },
  {
   "cell_type": "markdown",
   "metadata": {},
   "source": [
    "## Loading the Best Model"
   ]
  },
  {
   "cell_type": "code",
   "execution_count": 12,
   "metadata": {},
   "outputs": [],
   "source": [
    "from tensorflow.python.keras.models import load_model\n",
    "\n",
    "best_model = load_model('VGG16_fine_tuning_part_1_Pneumonia_vs_Normal_best_model.h5')"
   ]
  },
  {
   "cell_type": "markdown",
   "metadata": {},
   "source": [
    "## Evaluating the Best Model"
   ]
  },
  {
   "cell_type": "code",
   "execution_count": 13,
   "metadata": {},
   "outputs": [
    {
     "name": "stdout",
     "output_type": "stream",
     "text": [
      "63/63 [==============================] - 7s 109ms/step - loss: 0.1614 - categorical_accuracy: 0.9327\n",
      "Test-set classification accuracy: 93.27%\n"
     ]
    }
   ],
   "source": [
    "steps_test=int(number_of_test_samples/batch_size)\n",
    "result = best_model.evaluate_generator(test_set, steps=steps_test,verbose=1)\n",
    "print(\"Test-set classification accuracy: {0:.2%}\".format(result[1]))"
   ]
  },
  {
   "cell_type": "markdown",
   "metadata": {},
   "source": [
    "## Unfreeze Some Layers in the Convolutional Base\n",
    "The first 3 steps of fine-tuning a network (mentioned above) have been completed. Now, I will unfreeze the `conv_base` and then freeze/unfreeze individual layers inside it. I will fine-tune the last three convolutional layers, which means all layers up to `block4_pool` should be frozen, and the layers `block5_conv1`, `block5_conv2`, and `block5_conv3` should be trainable."
   ]
  },
  {
   "cell_type": "code",
   "execution_count": 14,
   "metadata": {},
   "outputs": [],
   "source": [
    "conv_base.trainable = True\n",
    "\n",
    "set_trainable = False\n",
    "for layer in conv_base.layers:\n",
    "    if layer.name == 'block5_conv1':\n",
    "        set_trainable = True\n",
    "    if set_trainable:\n",
    "        layer.trainable = True\n",
    "    else:\n",
    "        layer.trainable = False"
   ]
  },
  {
   "cell_type": "markdown",
   "metadata": {},
   "source": [
    "## Jointly train both the Unfrozen Layers and the added Classifier"
   ]
  },
  {
   "cell_type": "code",
   "execution_count": 15,
   "metadata": {},
   "outputs": [],
   "source": [
    "filepath=\"VGG16_fine_tuning_part_2_Pneumonia_vs_Normal_best_model.h5\"\n",
    "checkpoint = ModelCheckpoint(filepath, save_best_only=True)\n",
    "callbacks_list = [checkpoint]"
   ]
  },
  {
   "cell_type": "code",
   "execution_count": 16,
   "metadata": {},
   "outputs": [],
   "source": [
    "best_model.compile(loss='categorical_crossentropy',optimizer=optimizers.Adam(lr=5e-6),metrics=['categorical_accuracy'])"
   ]
  },
  {
   "cell_type": "code",
   "execution_count": 18,
   "metadata": {},
   "outputs": [
    {
     "name": "stdout",
     "output_type": "stream",
     "text": [
      "Epoch 1/50\n",
      "63/63 [==============================] - 8s 122ms/step - loss: 0.2158 - categorical_accuracy: 0.9407\n",
      "522/522 [==============================] - 129s 248ms/step - loss: 0.0363 - categorical_accuracy: 0.9868 - val_loss: 0.2158 - val_categorical_accuracy: 0.9407\n",
      "Epoch 2/50\n",
      "63/63 [==============================] - 8s 121ms/step - loss: 0.2367 - categorical_accuracy: 0.9455\n",
      "522/522 [==============================] - 128s 246ms/step - loss: 0.0254 - categorical_accuracy: 0.9927 - val_loss: 0.2367 - val_categorical_accuracy: 0.9455\n",
      "Epoch 3/50\n",
      "63/63 [==============================] - 8s 121ms/step - loss: 0.2896 - categorical_accuracy: 0.9375\n",
      "522/522 [==============================] - 128s 246ms/step - loss: 0.0266 - categorical_accuracy: 0.9918 - val_loss: 0.2896 - val_categorical_accuracy: 0.9375\n",
      "Epoch 4/50\n",
      "63/63 [==============================] - 7s 119ms/step - loss: 0.3036 - categorical_accuracy: 0.9423\n",
      "522/522 [==============================] - 145s 277ms/step - loss: 0.0196 - categorical_accuracy: 0.9937 - val_loss: 0.3036 - val_categorical_accuracy: 0.9423\n",
      "Epoch 5/50\n",
      "63/63 [==============================] - 8s 122ms/step - loss: 0.3023 - categorical_accuracy: 0.9375\n",
      "522/522 [==============================] - 132s 252ms/step - loss: 0.0210 - categorical_accuracy: 0.9923 - val_loss: 0.3023 - val_categorical_accuracy: 0.9375\n",
      "Epoch 6/50\n",
      "63/63 [==============================] - 8s 121ms/step - loss: 0.2574 - categorical_accuracy: 0.9439\n",
      "522/522 [==============================] - 153s 293ms/step - loss: 0.0168 - categorical_accuracy: 0.9941 - val_loss: 0.2574 - val_categorical_accuracy: 0.9439\n",
      "Epoch 7/50\n",
      "63/63 [==============================] - 10s 158ms/step - loss: 0.3057 - categorical_accuracy: 0.9423\n",
      "522/522 [==============================] - 1080s 2s/step - loss: 0.0143 - categorical_accuracy: 0.9946 - val_loss: 0.3057 - val_categorical_accuracy: 0.9423\n",
      "Epoch 8/50\n",
      "63/63 [==============================] - 7s 118ms/step - loss: 0.3081 - categorical_accuracy: 0.9471\n",
      "522/522 [==============================] - 129s 247ms/step - loss: 0.0148 - categorical_accuracy: 0.9946 - val_loss: 0.3081 - val_categorical_accuracy: 0.9471\n",
      "Epoch 9/50\n",
      "63/63 [==============================] - 7s 119ms/step - loss: 0.2611 - categorical_accuracy: 0.9455\n",
      "522/522 [==============================] - 129s 247ms/step - loss: 0.0146 - categorical_accuracy: 0.9952 - val_loss: 0.2611 - val_categorical_accuracy: 0.9455\n",
      "Epoch 10/50\n",
      "63/63 [==============================] - 7s 118ms/step - loss: 0.2199 - categorical_accuracy: 0.9535\n",
      "522/522 [==============================] - 129s 247ms/step - loss: 0.0155 - categorical_accuracy: 0.9956 - val_loss: 0.2199 - val_categorical_accuracy: 0.9535\n",
      "Epoch 11/50\n",
      "63/63 [==============================] - 8s 120ms/step - loss: 0.3117 - categorical_accuracy: 0.9439\n",
      "522/522 [==============================] - 129s 247ms/step - loss: 0.0148 - categorical_accuracy: 0.9952 - val_loss: 0.3117 - val_categorical_accuracy: 0.9439\n",
      "Epoch 12/50\n",
      "63/63 [==============================] - 7s 118ms/step - loss: 0.3868 - categorical_accuracy: 0.9407\n",
      "522/522 [==============================] - 129s 246ms/step - loss: 0.0102 - categorical_accuracy: 0.9964 - val_loss: 0.3868 - val_categorical_accuracy: 0.9407\n",
      "Epoch 13/50\n",
      "63/63 [==============================] - 7s 117ms/step - loss: 0.3549 - categorical_accuracy: 0.9407\n",
      "522/522 [==============================] - 128s 246ms/step - loss: 0.0135 - categorical_accuracy: 0.9950 - val_loss: 0.3549 - val_categorical_accuracy: 0.9407\n",
      "Epoch 14/50\n",
      "63/63 [==============================] - 8s 123ms/step - loss: 0.2980 - categorical_accuracy: 0.9471\n",
      "522/522 [==============================] - 129s 247ms/step - loss: 0.0126 - categorical_accuracy: 0.9969 - val_loss: 0.2980 - val_categorical_accuracy: 0.9471\n",
      "Epoch 15/50\n",
      "63/63 [==============================] - 7s 119ms/step - loss: 0.3284 - categorical_accuracy: 0.9455\n",
      "522/522 [==============================] - 129s 246ms/step - loss: 0.0130 - categorical_accuracy: 0.9956 - val_loss: 0.3284 - val_categorical_accuracy: 0.9455\n",
      "Epoch 16/50\n",
      "63/63 [==============================] - 7s 119ms/step - loss: 0.4151 - categorical_accuracy: 0.9375\n",
      "522/522 [==============================] - 129s 246ms/step - loss: 0.0085 - categorical_accuracy: 0.9960 - val_loss: 0.4151 - val_categorical_accuracy: 0.9375\n",
      "Epoch 17/50\n",
      "63/63 [==============================] - 8s 122ms/step - loss: 0.3476 - categorical_accuracy: 0.9423\n",
      "522/522 [==============================] - 129s 247ms/step - loss: 0.0124 - categorical_accuracy: 0.9960 - val_loss: 0.3476 - val_categorical_accuracy: 0.9423\n",
      "Epoch 18/50\n",
      "63/63 [==============================] - 7s 118ms/step - loss: 0.4017 - categorical_accuracy: 0.9359\n",
      "522/522 [==============================] - 129s 246ms/step - loss: 0.0096 - categorical_accuracy: 0.9960 - val_loss: 0.4017 - val_categorical_accuracy: 0.9359\n",
      "Epoch 19/50\n",
      "63/63 [==============================] - 7s 118ms/step - loss: 0.2717 - categorical_accuracy: 0.9487\n",
      "522/522 [==============================] - 128s 246ms/step - loss: 0.0090 - categorical_accuracy: 0.9973 - val_loss: 0.2717 - val_categorical_accuracy: 0.9487\n",
      "Epoch 20/50\n",
      "63/63 [==============================] - 7s 115ms/step - loss: 0.3058 - categorical_accuracy: 0.9439\n",
      "522/522 [==============================] - 128s 246ms/step - loss: 0.0085 - categorical_accuracy: 0.9971 - val_loss: 0.3058 - val_categorical_accuracy: 0.9439\n",
      "Epoch 21/50\n",
      "63/63 [==============================] - 7s 115ms/step - loss: 0.3574 - categorical_accuracy: 0.9471\n",
      "522/522 [==============================] - 128s 246ms/step - loss: 0.0054 - categorical_accuracy: 0.9983 - val_loss: 0.3574 - val_categorical_accuracy: 0.9471\n",
      "Epoch 22/50\n",
      "63/63 [==============================] - 7s 116ms/step - loss: 0.3981 - categorical_accuracy: 0.9375\n",
      "522/522 [==============================] - 128s 246ms/step - loss: 0.0094 - categorical_accuracy: 0.9969 - val_loss: 0.3981 - val_categorical_accuracy: 0.9375\n",
      "Epoch 23/50\n",
      "63/63 [==============================] - 7s 116ms/step - loss: 0.3813 - categorical_accuracy: 0.9471\n",
      "522/522 [==============================] - 129s 246ms/step - loss: 0.0060 - categorical_accuracy: 0.9988 - val_loss: 0.3813 - val_categorical_accuracy: 0.9471\n",
      "Epoch 24/50\n",
      "63/63 [==============================] - 7s 116ms/step - loss: 0.3377 - categorical_accuracy: 0.9503\n",
      "522/522 [==============================] - 128s 246ms/step - loss: 0.0063 - categorical_accuracy: 0.9979 - val_loss: 0.3377 - val_categorical_accuracy: 0.9503\n",
      "Epoch 25/50\n",
      "63/63 [==============================] - 7s 115ms/step - loss: 0.4188 - categorical_accuracy: 0.9487\n",
      "522/522 [==============================] - 128s 246ms/step - loss: 0.0060 - categorical_accuracy: 0.9977 - val_loss: 0.4188 - val_categorical_accuracy: 0.9487\n",
      "Epoch 26/50\n",
      "63/63 [==============================] - 7s 115ms/step - loss: 0.3919 - categorical_accuracy: 0.9503\n",
      "522/522 [==============================] - 128s 246ms/step - loss: 0.0053 - categorical_accuracy: 0.9981 - val_loss: 0.3919 - val_categorical_accuracy: 0.9503\n",
      "Epoch 27/50\n",
      "63/63 [==============================] - 7s 115ms/step - loss: 0.4672 - categorical_accuracy: 0.9359\n",
      "522/522 [==============================] - 128s 246ms/step - loss: 0.0038 - categorical_accuracy: 0.9983 - val_loss: 0.4672 - val_categorical_accuracy: 0.9359\n",
      "Epoch 28/50\n",
      "63/63 [==============================] - 7s 115ms/step - loss: 0.4419 - categorical_accuracy: 0.9423\n",
      "522/522 [==============================] - 128s 246ms/step - loss: 0.0030 - categorical_accuracy: 0.9988 - val_loss: 0.4419 - val_categorical_accuracy: 0.9423\n",
      "Epoch 29/50\n",
      "63/63 [==============================] - 7s 115ms/step - loss: 0.3996 - categorical_accuracy: 0.9487\n",
      "522/522 [==============================] - 128s 246ms/step - loss: 0.0077 - categorical_accuracy: 0.9977 - val_loss: 0.3996 - val_categorical_accuracy: 0.9487\n",
      "Epoch 30/50\n",
      "63/63 [==============================] - 7s 116ms/step - loss: 0.3911 - categorical_accuracy: 0.9487\n",
      "522/522 [==============================] - 128s 246ms/step - loss: 0.0070 - categorical_accuracy: 0.9969 - val_loss: 0.3911 - val_categorical_accuracy: 0.9487\n",
      "Epoch 31/50\n",
      "63/63 [==============================] - 7s 115ms/step - loss: 0.4984 - categorical_accuracy: 0.9311\n",
      "522/522 [==============================] - 128s 246ms/step - loss: 0.0067 - categorical_accuracy: 0.9977 - val_loss: 0.4984 - val_categorical_accuracy: 0.9311\n",
      "Epoch 32/50\n",
      "63/63 [==============================] - 7s 116ms/step - loss: 0.3412 - categorical_accuracy: 0.9487\n",
      "522/522 [==============================] - 128s 246ms/step - loss: 0.0074 - categorical_accuracy: 0.9973 - val_loss: 0.3412 - val_categorical_accuracy: 0.9487\n",
      "Epoch 33/50\n",
      "63/63 [==============================] - 7s 114ms/step - loss: 0.4007 - categorical_accuracy: 0.9455\n",
      "522/522 [==============================] - 128s 246ms/step - loss: 0.0054 - categorical_accuracy: 0.9979 - val_loss: 0.4007 - val_categorical_accuracy: 0.9455\n",
      "Epoch 34/50\n",
      "63/63 [==============================] - 7s 114ms/step - loss: 0.3802 - categorical_accuracy: 0.9455\n",
      "522/522 [==============================] - 128s 246ms/step - loss: 0.0045 - categorical_accuracy: 0.9988 - val_loss: 0.3802 - val_categorical_accuracy: 0.9455\n",
      "Epoch 35/50\n",
      "63/63 [==============================] - 7s 115ms/step - loss: 0.4044 - categorical_accuracy: 0.9503\n",
      "522/522 [==============================] - 128s 246ms/step - loss: 0.0055 - categorical_accuracy: 0.9977 - val_loss: 0.4044 - val_categorical_accuracy: 0.9503\n",
      "Epoch 36/50\n",
      "63/63 [==============================] - 7s 115ms/step - loss: 0.4117 - categorical_accuracy: 0.9471\n",
      "522/522 [==============================] - 128s 246ms/step - loss: 0.0053 - categorical_accuracy: 0.9987 - val_loss: 0.4117 - val_categorical_accuracy: 0.9471\n",
      "Epoch 37/50\n",
      "63/63 [==============================] - 7s 117ms/step - loss: 0.4108 - categorical_accuracy: 0.9503\n",
      "522/522 [==============================] - 128s 246ms/step - loss: 0.0026 - categorical_accuracy: 0.9992 - val_loss: 0.4108 - val_categorical_accuracy: 0.9503\n",
      "Epoch 38/50\n",
      "63/63 [==============================] - 7s 118ms/step - loss: 0.3937 - categorical_accuracy: 0.9503\n",
      "522/522 [==============================] - 154s 295ms/step - loss: 0.0057 - categorical_accuracy: 0.9973 - val_loss: 0.3937 - val_categorical_accuracy: 0.9503\n",
      "Epoch 39/50\n",
      "63/63 [==============================] - 7s 115ms/step - loss: 0.4442 - categorical_accuracy: 0.9439\n",
      "522/522 [==============================] - 158s 302ms/step - loss: 0.0027 - categorical_accuracy: 0.9990 - val_loss: 0.4442 - val_categorical_accuracy: 0.9439\n",
      "Epoch 40/50\n",
      "63/63 [==============================] - 7s 117ms/step - loss: 0.4035 - categorical_accuracy: 0.9535\n",
      "522/522 [==============================] - 150s 288ms/step - loss: 0.0027 - categorical_accuracy: 0.9988 - val_loss: 0.4035 - val_categorical_accuracy: 0.9535\n",
      "Epoch 41/50\n",
      "63/63 [==============================] - 7s 115ms/step - loss: 0.4136 - categorical_accuracy: 0.9487\n",
      "522/522 [==============================] - 155s 297ms/step - loss: 0.0054 - categorical_accuracy: 0.9979 - val_loss: 0.4136 - val_categorical_accuracy: 0.9487\n",
      "Epoch 42/50\n",
      "63/63 [==============================] - 7s 119ms/step - loss: 0.3817 - categorical_accuracy: 0.9503\n",
      "522/522 [==============================] - 158s 303ms/step - loss: 0.0051 - categorical_accuracy: 0.9985 - val_loss: 0.3817 - val_categorical_accuracy: 0.9503\n",
      "Epoch 43/50\n",
      "63/63 [==============================] - 7s 118ms/step - loss: 0.4534 - categorical_accuracy: 0.9503\n",
      "522/522 [==============================] - 159s 304ms/step - loss: 0.0038 - categorical_accuracy: 0.9985 - val_loss: 0.4534 - val_categorical_accuracy: 0.9503\n",
      "Epoch 44/50\n",
      "63/63 [==============================] - 7s 119ms/step - loss: 0.3987 - categorical_accuracy: 0.95031s - loss: 0.4844 - cate\n",
      "522/522 [==============================] - 159s 305ms/step - loss: 0.0027 - categorical_accuracy: 0.9994 - val_loss: 0.3987 - val_categorical_accuracy: 0.9503\n",
      "Epoch 45/50\n",
      "63/63 [==============================] - 11s 175ms/step - loss: 0.3801 - categorical_accuracy: 0.9535\n",
      "522/522 [==============================] - 18967s 36s/step - loss: 0.0021 - categorical_accuracy: 0.9990 - val_loss: 0.3801 - val_categorical_accuracy: 0.9535\n",
      "Epoch 46/50\n",
      "63/63 [==============================] - 8s 123ms/step - loss: 0.4055 - categorical_accuracy: 0.9503\n",
      "522/522 [==============================] - 134s 258ms/step - loss: 0.0062 - categorical_accuracy: 0.9983 - val_loss: 0.4055 - val_categorical_accuracy: 0.9503\n",
      "Epoch 47/50\n",
      "63/63 [==============================] - 8s 128ms/step - loss: 0.4284 - categorical_accuracy: 0.9487TA: 1s - loss: 0.5266 - cate\n",
      "522/522 [==============================] - 129s 247ms/step - loss: 0.0026 - categorical_accuracy: 0.9992 - val_loss: 0.4284 - val_categorical_accuracy: 0.9487\n",
      "Epoch 48/50\n",
      "63/63 [==============================] - 7s 118ms/step - loss: 0.3478 - categorical_accuracy: 0.9519\n",
      "522/522 [==============================] - 128s 246ms/step - loss: 0.0040 - categorical_accuracy: 0.9988 - val_loss: 0.3478 - val_categorical_accuracy: 0.9519\n",
      "Epoch 49/50\n",
      "63/63 [==============================] - 8s 122ms/step - loss: 0.3988 - categorical_accuracy: 0.9503\n",
      "522/522 [==============================] - 130s 248ms/step - loss: 0.0033 - categorical_accuracy: 0.9992 - val_loss: 0.3988 - val_categorical_accuracy: 0.9503\n",
      "Epoch 50/50\n",
      "63/63 [==============================] - 8s 119ms/step - loss: 0.4216 - categorical_accuracy: 0.9471\n",
      "522/522 [==============================] - 129s 246ms/step - loss: 0.0034 - categorical_accuracy: 0.9988 - val_loss: 0.4216 - val_categorical_accuracy: 0.9471\n"
     ]
    }
   ],
   "source": [
    "import math\n",
    "\n",
    "history = best_model.fit_generator(\n",
    "      training_set,\n",
    "      steps_per_epoch=math.ceil(number_of_training_samples//batch_size),\n",
    "      epochs=no_of_epochs,\n",
    "      callbacks=callbacks_list,\n",
    "      validation_data=test_set,\n",
    "      validation_steps=math.ceil(number_of_test_samples//batch_size))"
   ]
  },
  {
   "cell_type": "markdown",
   "metadata": {},
   "source": [
    "## Loading the Best Model after Fine Tuning"
   ]
  },
  {
   "cell_type": "code",
   "execution_count": 19,
   "metadata": {},
   "outputs": [],
   "source": [
    "best_model_fine_tuned = load_model('VGG16_fine_tuning_part_2_Pneumonia_vs_Normal_best_model.h5')"
   ]
  },
  {
   "cell_type": "markdown",
   "metadata": {},
   "source": [
    "## Evaluating the Best Model after Fine Tuning"
   ]
  },
  {
   "cell_type": "code",
   "execution_count": 21,
   "metadata": {},
   "outputs": [
    {
     "name": "stdout",
     "output_type": "stream",
     "text": [
      "63/63 [==============================] - 7s 104ms/step - loss: 0.2158 - categorical_accuracy: 0.9407\n",
      "Test-set classification accuracy: 94.07%\n"
     ]
    }
   ],
   "source": [
    "steps_test=int(17540/32)\n",
    "result = best_model_fine_tuned.evaluate_generator(test_set, steps=steps_test,verbose=1)\n",
    "print(\"Test-set classification accuracy: {0:.2%}\".format(result[1]))"
   ]
  },
  {
   "cell_type": "markdown",
   "metadata": {},
   "source": [
    "## Calculating Precision, Specificity and Sensitivity (Recall) values for the model before and after Fine Tuning\n",
    "Precision-Recall is a useful measure of success of prediction when the classes are very imbalanced. High precision relates to a low false positive rate, and high recall relates to a low false negative rate.\n",
    "\n",
    "Precision is defined as the number of true positives over the number of true positives plus the number of false positives. Recall is defined as the number of true positives over the number of true positives plus the number of false negatives. Please see the [link](https://scikit-learn.org/stable/auto_examples/model_selection/plot_precision_recall.html) for details.\n",
    "\n",
    "Another way of assessing a binary classification model is to compute the sensitivity (also called the true positive rate or the recall) and specificity (also called the true negative rate) of the model. Sensitivity indicates the percentage of sick people who are correctly identified as having the condition. Specificity indicates the percentage of healthy people who are correctly identified as not having the condition.\n",
    "\n",
    "But first we prepare our test data, so that later we can draw the confusion matrix as well as calculate precision, specificity and sensitivity (recall) of the model."
   ]
  },
  {
   "cell_type": "code",
   "execution_count": 22,
   "metadata": {},
   "outputs": [
    {
     "name": "stdout",
     "output_type": "stream",
     "text": [
      "Total number of test examples:  (624, 150, 150, 3)\n",
      "Total number of labels: (624, 1)\n"
     ]
    }
   ],
   "source": [
    "# Preparing test data\n",
    "import glob\n",
    "from pathlib import Path\n",
    "from tensorflow.python.keras.utils import to_categorical\n",
    "import cv2\n",
    "\n",
    "normal_cases_dir = Path('D:\\\\TensorFlow Programs\\\\Diagnosis of Pneumonia based on Chest X-Rays\\\\chest-xray-pneumonia\\\\chest_xray\\\\chest_xray\\\\test\\\\NORMAL')\n",
    "pneumonia_cases_dir = Path('D:\\\\TensorFlow Programs\\\\Diagnosis of Pneumonia based on Chest X-Rays\\\\chest-xray-pneumonia\\\\chest_xray\\\\chest_xray\\\\test\\\\PNEUMONIA')\n",
    "\n",
    "normal_cases = normal_cases_dir.glob('*.jpeg')\n",
    "pneumonia_cases = pneumonia_cases_dir.glob('*.jpeg')\n",
    "\n",
    "test_data = []\n",
    "test_labels = []\n",
    "\n",
    "for img in normal_cases:\n",
    "    img = cv2.imread(str(img))\n",
    "    img = cv2.resize(img, (image_width,image_height))\n",
    "    if img.shape[2] ==1:\n",
    "        img = np.dstack([img, img, img])\n",
    "    else:\n",
    "        img = cv2.cvtColor(img, cv2.COLOR_BGR2RGB)\n",
    "    img = img.astype(np.float32)/255.\n",
    "    label = [0]\n",
    "    test_data.append(img)\n",
    "    test_labels.append(label)\n",
    "                      \n",
    "for img in pneumonia_cases:\n",
    "    img = cv2.imread(str(img))\n",
    "    img = cv2.resize(img, (image_width,image_height))\n",
    "    if img.shape[2] ==1:\n",
    "        img = np.dstack([img, img, img])\n",
    "    else:\n",
    "        img = cv2.cvtColor(img, cv2.COLOR_BGR2RGB)\n",
    "    img = img.astype(np.float32)/255.\n",
    "    label = [1]\n",
    "    test_data.append(img)\n",
    "    test_labels.append(label)\n",
    "    \n",
    "\n",
    "test_data = np.array(test_data)\n",
    "test_labels = np.array(test_labels)\n",
    "test_labels_one_hot_encoding=to_categorical(test_labels)\n",
    "\n",
    "print(\"Total number of test examples: \", test_data.shape)\n",
    "print(\"Total number of labels:\", test_labels.shape)"
   ]
  },
  {
   "cell_type": "code",
   "execution_count": 23,
   "metadata": {},
   "outputs": [
    {
     "name": "stdout",
     "output_type": "stream",
     "text": [
      "624/624 [==============================] - 5s 7ms/sample - loss: 0.2130 - categorical_accuracy: 0.9439\n",
      "Loss on test set:  0.21302216750859188\n",
      "Accuracy on test set:  0.94391024\n"
     ]
    }
   ],
   "source": [
    "# Evaluation on test dataset\n",
    "\n",
    "test_loss, test_score = best_model_fine_tuned.evaluate(test_data, test_labels_one_hot_encoding, batch_size=16)\n",
    "print(\"Loss on test set: \", test_loss)\n",
    "print(\"Accuracy on test set: \", test_score)"
   ]
  },
  {
   "cell_type": "code",
   "execution_count": 24,
   "metadata": {},
   "outputs": [
    {
     "name": "stdout",
     "output_type": "stream",
     "text": [
      "624/624 [==============================] - 4s 6ms/sample\n",
      "(624, 1)\n",
      "(624, 1)\n"
     ]
    }
   ],
   "source": [
    "# Get predictions\n",
    "preds = best_model_fine_tuned.predict(test_data, batch_size=16,verbose=1)\n",
    "preds=np.around(preds)\n",
    "orig_test_labels=test_labels\n",
    "predicted_labels=np.argmax(preds,axis=1)\n",
    "predicted_labels=np.reshape(predicted_labels,(624,1))\n",
    "print(predicted_labels.shape)\n",
    "print(orig_test_labels.shape)"
   ]
  },
  {
   "cell_type": "code",
   "execution_count": 25,
   "metadata": {},
   "outputs": [
    {
     "data": {
      "text/plain": [
       "<Figure size 432x288 with 0 Axes>"
      ]
     },
     "metadata": {},
     "output_type": "display_data"
    },
    {
     "data": {
      "image/png": "[encoded data removed]",
      "text/plain": [
       "<Figure size 864x576 with 1 Axes>"
      ]
     },
     "metadata": {
      "needs_background": "light"
     },
     "output_type": "display_data"
    }
   ],
   "source": [
    "import matplotlib.pyplot as plt\n",
    "%matplotlib inline\n",
    "# Get the confusion matrix\n",
    "from sklearn.metrics import confusion_matrix\n",
    "from mlxtend.plotting import plot_confusion_matrix\n",
    "\n",
    "cm  = confusion_matrix(orig_test_labels, predicted_labels)\n",
    "plt.figure()\n",
    "plot_confusion_matrix(cm,figsize=(12,8), hide_ticks=True,cmap=plt.cm.Blues)\n",
    "plt.xticks(range(2), ['Normal', 'Pneumonia'], fontsize=16)\n",
    "plt.yticks(range(2), ['Normal', 'Pneumonia'], fontsize=16)\n",
    "plt.show()"
   ]
  },
  {
   "cell_type": "code",
   "execution_count": 26,
   "metadata": {},
   "outputs": [
    {
     "name": "stdout",
     "output_type": "stream",
     "text": [
      "Sensitivity (Recall) of the model is 0.990\n",
      "Specificity of the model is 0.868\n",
      "Precision of the model is 0.926\n"
     ]
    }
   ],
   "source": [
    "# Calculate Precision and Recall\n",
    "tn, fp, fn, tp = cm.ravel()\n",
    "\n",
    "precision = tp/(tp+fp)\n",
    "recall = tp/(tp+fn)\n",
    "specificity=tn/(tn+fp)\n",
    "\n",
    "print(\"Sensitivity (Recall) of the model is {:.3f}\".format(recall))\n",
    "print(\"Specificity of the model is {:.3f}\".format(specificity))\n",
    "print(\"Precision of the model is {:.3f}\".format(precision))"
   ]
  },
  {
   "cell_type": "markdown",
   "metadata": {},
   "source": [
    "## ROC Curve and AUC for the model"
   ]
  },
  {
   "cell_type": "code",
   "execution_count": 27,
   "metadata": {},
   "outputs": [],
   "source": [
    "from sklearn.metrics import roc_curve\n",
    "\n",
    "probs = best_model_fine_tuned.predict_proba(test_data)\n",
    "preds = probs[:,1]\n",
    "fpr, tpr, thresholds = roc_curve(test_labels.ravel(), preds)"
   ]
  },
  {
   "cell_type": "code",
   "execution_count": 28,
   "metadata": {},
   "outputs": [],
   "source": [
    "from sklearn.metrics import auc\n",
    "auc_var = auc(fpr, tpr)"
   ]
  },
  {
   "cell_type": "code",
   "execution_count": 29,
   "metadata": {},
   "outputs": [
    {
     "data": {
      "image/png": "[encoded data removed]",
      "text/plain": [
       "<Figure size 432x288 with 1 Axes>"
      ]
     },
     "metadata": {
      "needs_background": "light"
     },
     "output_type": "display_data"
    }
   ],
   "source": [
    "import matplotlib.pyplot as plt\n",
    "%matplotlib inline\n",
    "plt.figure(1)\n",
    "plt.plot([0, 1], [0, 1], 'k--')\n",
    "plt.plot(fpr, tpr, label='VGG16 Fine Tuning (area = {:.3f})'.format(auc_var))\n",
    "plt.xlabel('False positive rate')\n",
    "plt.ylabel('True positive rate')\n",
    "plt.title('ROC curve')\n",
    "plt.legend(loc='best')\n",
    "plt.show()"
   ]
  },
  {
   "cell_type": "markdown",
   "metadata": {},
   "source": [
    "## Precision-Recall Curve for the Model"
   ]
  },
  {
   "cell_type": "code",
   "execution_count": 30,
   "metadata": {},
   "outputs": [],
   "source": [
    "from sklearn.metrics import precision_recall_curve\n",
    "from sklearn.metrics import f1_score\n",
    "from sklearn.metrics import average_precision_score"
   ]
  },
  {
   "cell_type": "code",
   "execution_count": 31,
   "metadata": {},
   "outputs": [],
   "source": [
    "precision, recall, thresholds = precision_recall_curve(test_labels.ravel(), preds)"
   ]
  },
  {
   "cell_type": "code",
   "execution_count": 32,
   "metadata": {},
   "outputs": [],
   "source": [
    "auc_var2 = auc(recall, precision)"
   ]
  },
  {
   "cell_type": "code",
   "execution_count": 33,
   "metadata": {},
   "outputs": [
    {
     "data": {
      "image/png": "[encoded data removed]",
      "text/plain": [
       "<Figure size 432x288 with 1 Axes>"
      ]
     },
     "metadata": {
      "needs_background": "light"
     },
     "output_type": "display_data"
    }
   ],
   "source": [
    "plt.figure()\n",
    "plt.plot(recall, precision, label='VGG16 Fine Tuning (area = {:.3f})'.format(auc_var2))\n",
    "plt.xlabel('Recall')\n",
    "plt.ylabel('Precision')\n",
    "plt.title('Precision-Recall curve')\n",
    "plt.legend(loc='best')\n",
    "plt.show()"
   ]
  }
 ],
 "metadata": {
  "kernelspec": {
   "display_name": "Python 3",
   "language": "python",
   "name": "python3"
  },
  "language_info": {
   "codemirror_mode": {
    "name": "ipython",
    "version": 3
   },
   "file_extension": ".py",
   "mimetype": "text/x-python",
   "name": "python",
   "nbconvert_exporter": "python",
   "pygments_lexer": "ipython3",
   "version": "3.6.8"
  }
 },
 "nbformat": 4,
 "nbformat_minor": 2
}
