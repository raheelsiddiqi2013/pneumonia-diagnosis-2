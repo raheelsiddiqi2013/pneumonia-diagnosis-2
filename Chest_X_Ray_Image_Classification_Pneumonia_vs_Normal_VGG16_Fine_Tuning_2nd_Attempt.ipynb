{
 "cells": [
  {
   "cell_type": "markdown",
   "metadata": {},
   "source": [
    "# Automated Chest X-ray based Pneumonia Diagnosis by Fine Tuning a VGG16-based Model for the Task\n",
    "This notebook is written by **Dr Raheel Siddiqi** on **07-06-2019**. This notebook presents an experiment to classify Chest X-ray images using *fine tuning*. The steps for fine-tuning a network are as follows:\n",
    "\n",
    "1. Add the custom network on top of an already-trained base network.\n",
    "2. Freeze the base network.\n",
    "3. Train the part that has been added.\n",
    "4. Unfreeze some layers in the base network.\n",
    "5. Jointly train both these layers and the part that has been added.\n",
    "\n",
    "The diagnosis process comprises of classifying Chest X-ray images into one of the two classes: (a) Normal, and (b) Pneumonia. The dataset is organized into 3 folders (train, test, val) and contains subfolders for each image category (Pneumonia/Normal). There are 5,863 X-Ray images (JPEG) and 2 categories (Pneumonia/Normal). The dataset has been downloded from [here](https://www.kaggle.com/paultimothymooney/chest-xray-pneumonia). \n",
    "\n",
    "Chest X-ray images (anterior-posterior) were selected from retrospective cohorts of pediatric patients of one to five years old from Guangzhou Women and Children’s Medical Center, Guangzhou. For the analysis of chest x-ray images, all chest radiographs were initially screened for quality control by removing all low quality or unreadable scans. The diagnoses for the images were then graded by two expert physicians before being cleared. In order to account for any grading errors, the evaluation set was also checked by a third expert.\n",
    "\n",
    "First I execute the first three steps (for fine tuning mentioned above) which are the same as *transfer learning*."
   ]
  },
  {
   "cell_type": "markdown",
   "metadata": {},
   "source": [
    "## Tensorflow and Keras version used"
   ]
  },
  {
   "cell_type": "code",
   "execution_count": 1,
   "metadata": {},
   "outputs": [
    {
     "name": "stdout",
     "output_type": "stream",
     "text": [
      "Tensorflow Version:  1.13.1\n",
      "Keras Version:  2.2.4-tf\n"
     ]
    }
   ],
   "source": [
    "import tensorflow as tf\n",
    "from tensorflow.python import keras\n",
    "\n",
    "print('Tensorflow Version: ', tf.__version__)\n",
    "print('Keras Version: ', keras.__version__)"
   ]
  },
  {
   "cell_type": "markdown",
   "metadata": {},
   "source": [
    "## Setting up the Model"
   ]
  },
  {
   "cell_type": "code",
   "execution_count": 2,
   "metadata": {},
   "outputs": [
    {
     "name": "stdout",
     "output_type": "stream",
     "text": [
      "WARNING:tensorflow:From C:\\Users\\Raheel\\Anaconda3\\envs\\EnvName\\lib\\site-packages\\tensorflow\\python\\ops\\resource_variable_ops.py:435: colocate_with (from tensorflow.python.framework.ops) is deprecated and will be removed in a future version.\n",
      "Instructions for updating:\n",
      "Colocations handled automatically by placer.\n"
     ]
    }
   ],
   "source": [
    "from tensorflow.python.keras.applications import VGG16\n",
    "\n",
    "conv_base=VGG16(weights='imagenet',include_top=False,input_shape=(150,150,3))"
   ]
  },
  {
   "cell_type": "code",
   "execution_count": 3,
   "metadata": {},
   "outputs": [
    {
     "name": "stdout",
     "output_type": "stream",
     "text": [
      "_________________________________________________________________\n",
      "Layer (type)                 Output Shape              Param #   \n",
      "=================================================================\n",
      "input_1 (InputLayer)         (None, 150, 150, 3)       0         \n",
      "_________________________________________________________________\n",
      "block1_conv1 (Conv2D)        (None, 150, 150, 64)      1792      \n",
      "_________________________________________________________________\n",
      "block1_conv2 (Conv2D)        (None, 150, 150, 64)      36928     \n",
      "_________________________________________________________________\n",
      "block1_pool (MaxPooling2D)   (None, 75, 75, 64)        0         \n",
      "_________________________________________________________________\n",
      "block2_conv1 (Conv2D)        (None, 75, 75, 128)       73856     \n",
      "_________________________________________________________________\n",
      "block2_conv2 (Conv2D)        (None, 75, 75, 128)       147584    \n",
      "_________________________________________________________________\n",
      "block2_pool (MaxPooling2D)   (None, 37, 37, 128)       0         \n",
      "_________________________________________________________________\n",
      "block3_conv1 (Conv2D)        (None, 37, 37, 256)       295168    \n",
      "_________________________________________________________________\n",
      "block3_conv2 (Conv2D)        (None, 37, 37, 256)       590080    \n",
      "_________________________________________________________________\n",
      "block3_conv3 (Conv2D)        (None, 37, 37, 256)       590080    \n",
      "_________________________________________________________________\n",
      "block3_pool (MaxPooling2D)   (None, 18, 18, 256)       0         \n",
      "_________________________________________________________________\n",
      "block4_conv1 (Conv2D)        (None, 18, 18, 512)       1180160   \n",
      "_________________________________________________________________\n",
      "block4_conv2 (Conv2D)        (None, 18, 18, 512)       2359808   \n",
      "_________________________________________________________________\n",
      "block4_conv3 (Conv2D)        (None, 18, 18, 512)       2359808   \n",
      "_________________________________________________________________\n",
      "block4_pool (MaxPooling2D)   (None, 9, 9, 512)         0         \n",
      "_________________________________________________________________\n",
      "block5_conv1 (Conv2D)        (None, 9, 9, 512)         2359808   \n",
      "_________________________________________________________________\n",
      "block5_conv2 (Conv2D)        (None, 9, 9, 512)         2359808   \n",
      "_________________________________________________________________\n",
      "block5_conv3 (Conv2D)        (None, 9, 9, 512)         2359808   \n",
      "_________________________________________________________________\n",
      "block5_pool (MaxPooling2D)   (None, 4, 4, 512)         0         \n",
      "=================================================================\n",
      "Total params: 14,714,688\n",
      "Trainable params: 14,714,688\n",
      "Non-trainable params: 0\n",
      "_________________________________________________________________\n"
     ]
    }
   ],
   "source": [
    "conv_base.summary()"
   ]
  },
  {
   "cell_type": "code",
   "execution_count": 4,
   "metadata": {},
   "outputs": [],
   "source": [
    "import os\n",
    "import numpy as np\n",
    "from tensorflow.python.keras.preprocessing.image import ImageDataGenerator\n",
    "from tensorflow.python.keras import models\n",
    "from tensorflow.python.keras import layers\n",
    "from tensorflow.python.keras.callbacks import ModelCheckpoint\n",
    "from tensorflow.python.keras import optimizers\n",
    "\n",
    "model = models.Sequential()\n",
    "model.add(conv_base)\n",
    "model.add(layers.Flatten())\n",
    "model.add(layers.Dense(512, activation='relu'))\n",
    "model.add(layers.Dense(2, activation='softmax'))\n",
    "model.compile(loss='categorical_crossentropy',optimizer=optimizers.Adam(lr=1e-4),metrics=['categorical_accuracy'])\n",
    "filepath=\"VGG16_fine_tuning_part_1_2nd_attempt_Pneumonia_vs_Normal_best_model.h5\"\n",
    "checkpoint = ModelCheckpoint(filepath, monitor='val_categorical_accuracy', save_best_only=True)\n",
    "callbacks_list = [checkpoint]"
   ]
  },
  {
   "cell_type": "code",
   "execution_count": 5,
   "metadata": {},
   "outputs": [
    {
     "name": "stdout",
     "output_type": "stream",
     "text": [
      "_________________________________________________________________\n",
      "Layer (type)                 Output Shape              Param #   \n",
      "=================================================================\n",
      "vgg16 (Model)                (None, 4, 4, 512)         14714688  \n",
      "_________________________________________________________________\n",
      "flatten (Flatten)            (None, 8192)              0         \n",
      "_________________________________________________________________\n",
      "dense (Dense)                (None, 512)               4194816   \n",
      "_________________________________________________________________\n",
      "dense_1 (Dense)              (None, 2)                 1026      \n",
      "=================================================================\n",
      "Total params: 18,910,530\n",
      "Trainable params: 18,910,530\n",
      "Non-trainable params: 0\n",
      "_________________________________________________________________\n"
     ]
    }
   ],
   "source": [
    "model.summary()"
   ]
  },
  {
   "cell_type": "markdown",
   "metadata": {},
   "source": [
    "## Setting up Training and Validation Data for the Experiment"
   ]
  },
  {
   "cell_type": "code",
   "execution_count": 6,
   "metadata": {},
   "outputs": [],
   "source": [
    "image_height = 150\n",
    "image_width = 150\n",
    "batch_size = 10\n",
    "no_of_epochs  = 50\n",
    "number_of_training_samples=5216\n",
    "number_of_test_samples=624"
   ]
  },
  {
   "cell_type": "code",
   "execution_count": 7,
   "metadata": {},
   "outputs": [],
   "source": [
    "train_dir='D:\\\\TensorFlow Programs\\\\Diagnosis of Pneumonia based on Chest X-Rays\\\\chest-xray-pneumonia\\\\chest_xray\\\\chest_xray\\\\train'\n",
    "validation_dir='D:\\\\TensorFlow Programs\\\\Diagnosis of Pneumonia based on Chest X-Rays\\\\chest-xray-pneumonia\\\\chest_xray\\\\chest_xray\\\\test'"
   ]
  },
  {
   "cell_type": "code",
   "execution_count": 8,
   "metadata": {},
   "outputs": [],
   "source": [
    "from tensorflow.python.keras.preprocessing.image import ImageDataGenerator\n",
    "\n",
    "train_datagen = ImageDataGenerator(rescale=1./255,\n",
    "                                   rotation_range=15,\n",
    "                                   shear_range=0.2,\n",
    "                                   zoom_range=0.2\n",
    "                                   )\n",
    "\n",
    "test_datagen = ImageDataGenerator(rescale=1./255)"
   ]
  },
  {
   "cell_type": "code",
   "execution_count": 9,
   "metadata": {},
   "outputs": [
    {
     "name": "stdout",
     "output_type": "stream",
     "text": [
      "Found 5216 images belonging to 2 classes.\n",
      "Found 624 images belonging to 2 classes.\n"
     ]
    }
   ],
   "source": [
    "training_set = train_datagen.flow_from_directory(train_dir,target_size=(image_width, image_height),batch_size=batch_size)\n",
    "\n",
    "test_set = test_datagen.flow_from_directory(validation_dir,target_size=(image_width, image_height),batch_size=batch_size,shuffle=False)"
   ]
  },
  {
   "cell_type": "markdown",
   "metadata": {},
   "source": [
    "## Model Training"
   ]
  },
  {
   "cell_type": "code",
   "execution_count": 10,
   "metadata": {},
   "outputs": [
    {
     "name": "stdout",
     "output_type": "stream",
     "text": [
      "WARNING:tensorflow:From C:\\Users\\Raheel\\Anaconda3\\envs\\EnvName\\lib\\site-packages\\tensorflow\\python\\ops\\math_ops.py:3066: to_int32 (from tensorflow.python.ops.math_ops) is deprecated and will be removed in a future version.\n",
      "Instructions for updating:\n",
      "Use tf.cast instead.\n",
      "Epoch 1/50\n",
      "63/63 [==============================] - 11s 181ms/step - loss: 0.4436 - categorical_accuracy: 0.8542\n",
      "522/522 [==============================] - 162s 310ms/step - loss: 0.2324 - categorical_accuracy: 0.9084 - val_loss: 0.4436 - val_categorical_accuracy: 0.8542\n",
      "Epoch 2/50\n",
      "63/63 [==============================] - 7s 117ms/step - loss: 0.2588 - categorical_accuracy: 0.9199\n",
      "522/522 [==============================] - 129s 247ms/step - loss: 0.1370 - categorical_accuracy: 0.9517 - val_loss: 0.2588 - val_categorical_accuracy: 0.9199\n",
      "Epoch 3/50\n",
      "63/63 [==============================] - 7s 117ms/step - loss: 0.2148 - categorical_accuracy: 0.9071\n",
      "522/522 [==============================] - 129s 247ms/step - loss: 0.1202 - categorical_accuracy: 0.9526 - val_loss: 0.2148 - val_categorical_accuracy: 0.9071\n",
      "Epoch 4/50\n",
      "63/63 [==============================] - 7s 107ms/step - loss: 0.2463 - categorical_accuracy: 0.9071\n",
      "522/522 [==============================] - 129s 246ms/step - loss: 0.0931 - categorical_accuracy: 0.9676 - val_loss: 0.2463 - val_categorical_accuracy: 0.9071\n",
      "Epoch 5/50\n",
      "63/63 [==============================] - 7s 107ms/step - loss: 0.1994 - categorical_accuracy: 0.9215\n",
      "522/522 [==============================] - 129s 247ms/step - loss: 0.0908 - categorical_accuracy: 0.9663 - val_loss: 0.1994 - val_categorical_accuracy: 0.9215\n",
      "Epoch 6/50\n",
      "63/63 [==============================] - 7s 107ms/step - loss: 0.2081 - categorical_accuracy: 0.9327\n",
      "522/522 [==============================] - 129s 247ms/step - loss: 0.0867 - categorical_accuracy: 0.9664 - val_loss: 0.2081 - val_categorical_accuracy: 0.9327\n",
      "Epoch 7/50\n",
      "63/63 [==============================] - 7s 108ms/step - loss: 0.4007 - categorical_accuracy: 0.8990\n",
      "522/522 [==============================] - 129s 247ms/step - loss: 0.0709 - categorical_accuracy: 0.9745 - val_loss: 0.4007 - val_categorical_accuracy: 0.8990\n",
      "Epoch 8/50\n",
      "63/63 [==============================] - 7s 106ms/step - loss: 0.1945 - categorical_accuracy: 0.9423\n",
      "522/522 [==============================] - 129s 247ms/step - loss: 0.0678 - categorical_accuracy: 0.9741 - val_loss: 0.1945 - val_categorical_accuracy: 0.9423\n",
      "Epoch 9/50\n",
      "63/63 [==============================] - 7s 107ms/step - loss: 0.1789 - categorical_accuracy: 0.9455\n",
      "522/522 [==============================] - 129s 247ms/step - loss: 0.0773 - categorical_accuracy: 0.9724 - val_loss: 0.1789 - val_categorical_accuracy: 0.9455\n",
      "Epoch 10/50\n",
      "63/63 [==============================] - 7s 107ms/step - loss: 0.1694 - categorical_accuracy: 0.9391\n",
      "522/522 [==============================] - 129s 246ms/step - loss: 0.0580 - categorical_accuracy: 0.9791 - val_loss: 0.1694 - val_categorical_accuracy: 0.9391\n",
      "Epoch 11/50\n",
      "63/63 [==============================] - 7s 107ms/step - loss: 0.2636 - categorical_accuracy: 0.9183\n",
      "522/522 [==============================] - 128s 246ms/step - loss: 0.0540 - categorical_accuracy: 0.9808 - val_loss: 0.2636 - val_categorical_accuracy: 0.9183\n",
      "Epoch 12/50\n",
      "63/63 [==============================] - 7s 108ms/step - loss: 0.2787 - categorical_accuracy: 0.9119\n",
      "522/522 [==============================] - 129s 246ms/step - loss: 0.0592 - categorical_accuracy: 0.9793 - val_loss: 0.2787 - val_categorical_accuracy: 0.9119\n",
      "Epoch 13/50\n",
      "63/63 [==============================] - 7s 106ms/step - loss: 0.2571 - categorical_accuracy: 0.9311\n",
      "522/522 [==============================] - 128s 246ms/step - loss: 0.0551 - categorical_accuracy: 0.9808 - val_loss: 0.2571 - val_categorical_accuracy: 0.9311\n",
      "Epoch 14/50\n",
      "63/63 [==============================] - 7s 109ms/step - loss: 0.2301 - categorical_accuracy: 0.9279\n",
      "522/522 [==============================] - 129s 246ms/step - loss: 0.0435 - categorical_accuracy: 0.9833 - val_loss: 0.2301 - val_categorical_accuracy: 0.9279\n",
      "Epoch 15/50\n",
      "63/63 [==============================] - 7s 106ms/step - loss: 0.2591 - categorical_accuracy: 0.9295\n",
      "522/522 [==============================] - 128s 246ms/step - loss: 0.0460 - categorical_accuracy: 0.9827 - val_loss: 0.2591 - val_categorical_accuracy: 0.9295\n",
      "Epoch 16/50\n",
      "63/63 [==============================] - 7s 106ms/step - loss: 0.2967 - categorical_accuracy: 0.9279\n",
      "522/522 [==============================] - 128s 246ms/step - loss: 0.0474 - categorical_accuracy: 0.9835 - val_loss: 0.2967 - val_categorical_accuracy: 0.9279\n",
      "Epoch 17/50\n",
      "63/63 [==============================] - 7s 106ms/step - loss: 0.3186 - categorical_accuracy: 0.9119\n",
      "522/522 [==============================] - 128s 246ms/step - loss: 0.0415 - categorical_accuracy: 0.9837 - val_loss: 0.3186 - val_categorical_accuracy: 0.9119\n",
      "Epoch 18/50\n",
      "63/63 [==============================] - 7s 111ms/step - loss: 0.2280 - categorical_accuracy: 0.9391\n",
      "522/522 [==============================] - 129s 247ms/step - loss: 0.0376 - categorical_accuracy: 0.9862 - val_loss: 0.2280 - val_categorical_accuracy: 0.9391\n",
      "Epoch 19/50\n",
      "63/63 [==============================] - 7s 108ms/step - loss: 0.2354 - categorical_accuracy: 0.9391\n",
      "522/522 [==============================] - 129s 247ms/step - loss: 0.0452 - categorical_accuracy: 0.9849 - val_loss: 0.2354 - val_categorical_accuracy: 0.9391\n",
      "Epoch 20/50\n",
      "63/63 [==============================] - 7s 108ms/step - loss: 0.2759 - categorical_accuracy: 0.9359\n",
      "522/522 [==============================] - 129s 246ms/step - loss: 0.0329 - categorical_accuracy: 0.9887 - val_loss: 0.2759 - val_categorical_accuracy: 0.9359\n",
      "Epoch 21/50\n",
      "63/63 [==============================] - 7s 106ms/step - loss: 0.3582 - categorical_accuracy: 0.9343\n",
      "522/522 [==============================] - 128s 246ms/step - loss: 0.0334 - categorical_accuracy: 0.9883 - val_loss: 0.3582 - val_categorical_accuracy: 0.9343\n",
      "Epoch 22/50\n",
      "63/63 [==============================] - 7s 108ms/step - loss: 0.1201 - categorical_accuracy: 0.9599\n",
      "522/522 [==============================] - 129s 248ms/step - loss: 0.0315 - categorical_accuracy: 0.9883 - val_loss: 0.1201 - val_categorical_accuracy: 0.9599\n",
      "Epoch 23/50\n",
      "63/63 [==============================] - 7s 107ms/step - loss: 0.5096 - categorical_accuracy: 0.8782\n",
      "522/522 [==============================] - 129s 246ms/step - loss: 0.0317 - categorical_accuracy: 0.9900 - val_loss: 0.5096 - val_categorical_accuracy: 0.8782\n",
      "Epoch 24/50\n",
      "63/63 [==============================] - 7s 106ms/step - loss: 0.3616 - categorical_accuracy: 0.9135\n",
      "522/522 [==============================] - 128s 246ms/step - loss: 0.0332 - categorical_accuracy: 0.9889 - val_loss: 0.3616 - val_categorical_accuracy: 0.9135\n",
      "Epoch 25/50\n",
      "63/63 [==============================] - 7s 107ms/step - loss: 0.1763 - categorical_accuracy: 0.9455\n",
      "522/522 [==============================] - 128s 246ms/step - loss: 0.0311 - categorical_accuracy: 0.9893 - val_loss: 0.1763 - val_categorical_accuracy: 0.9455\n",
      "Epoch 26/50\n",
      "63/63 [==============================] - 7s 106ms/step - loss: 0.3845 - categorical_accuracy: 0.9087\n",
      "522/522 [==============================] - 129s 246ms/step - loss: 0.0249 - categorical_accuracy: 0.9912 - val_loss: 0.3845 - val_categorical_accuracy: 0.9087\n",
      "Epoch 27/50\n",
      "63/63 [==============================] - 7s 107ms/step - loss: 0.1641 - categorical_accuracy: 0.9455\n",
      "522/522 [==============================] - 128s 246ms/step - loss: 0.0288 - categorical_accuracy: 0.9891 - val_loss: 0.1641 - val_categorical_accuracy: 0.9455\n",
      "Epoch 28/50\n",
      "63/63 [==============================] - 7s 107ms/step - loss: 0.1967 - categorical_accuracy: 0.9567\n",
      "522/522 [==============================] - 128s 246ms/step - loss: 0.0260 - categorical_accuracy: 0.9908 - val_loss: 0.1967 - val_categorical_accuracy: 0.9567\n",
      "Epoch 29/50\n",
      "63/63 [==============================] - 7s 108ms/step - loss: 0.3579 - categorical_accuracy: 0.9439\n",
      "522/522 [==============================] - 128s 246ms/step - loss: 0.0445 - categorical_accuracy: 0.9862 - val_loss: 0.3579 - val_categorical_accuracy: 0.9439\n",
      "Epoch 30/50\n",
      "63/63 [==============================] - 7s 106ms/step - loss: 0.4558 - categorical_accuracy: 0.9247\n",
      "522/522 [==============================] - 128s 246ms/step - loss: 0.0272 - categorical_accuracy: 0.9908 - val_loss: 0.4558 - val_categorical_accuracy: 0.9247\n",
      "Epoch 31/50\n",
      "63/63 [==============================] - 7s 116ms/step - loss: 0.3191 - categorical_accuracy: 0.9455\n",
      "522/522 [==============================] - 137s 262ms/step - loss: 0.0281 - categorical_accuracy: 0.9902 - val_loss: 0.3191 - val_categorical_accuracy: 0.9455\n",
      "Epoch 32/50\n",
      "63/63 [==============================] - 8s 121ms/step - loss: 0.1919 - categorical_accuracy: 0.9503\n",
      "522/522 [==============================] - 148s 283ms/step - loss: 0.0299 - categorical_accuracy: 0.9895 - val_loss: 0.1919 - val_categorical_accuracy: 0.9503\n",
      "Epoch 33/50\n",
      "63/63 [==============================] - 8s 123ms/step - loss: 0.3028 - categorical_accuracy: 0.9423\n",
      "522/522 [==============================] - 149s 286ms/step - loss: 0.0180 - categorical_accuracy: 0.9948 - val_loss: 0.3028 - val_categorical_accuracy: 0.9423\n",
      "Epoch 34/50\n",
      "63/63 [==============================] - 8s 121ms/step - loss: 0.4289 - categorical_accuracy: 0.8654\n",
      "522/522 [==============================] - 154s 294ms/step - loss: 0.0268 - categorical_accuracy: 0.9910 - val_loss: 0.4289 - val_categorical_accuracy: 0.8654\n",
      "Epoch 35/50\n",
      "63/63 [==============================] - 8s 121ms/step - loss: 0.2205 - categorical_accuracy: 0.94713s -\n",
      "522/522 [==============================] - 159s 305ms/step - loss: 0.0197 - categorical_accuracy: 0.9942 - val_loss: 0.2205 - val_categorical_accuracy: 0.9471\n",
      "Epoch 36/50\n",
      "63/63 [==============================] - 7s 105ms/step - loss: 0.3463 - categorical_accuracy: 0.9391\n",
      "522/522 [==============================] - 148s 284ms/step - loss: 0.0164 - categorical_accuracy: 0.9937 - val_loss: 0.3463 - val_categorical_accuracy: 0.9391\n",
      "Epoch 37/50\n",
      "63/63 [==============================] - 8s 126ms/step - loss: 0.2730 - categorical_accuracy: 0.9423\n",
      "522/522 [==============================] - 123s 235ms/step - loss: 0.0140 - categorical_accuracy: 0.9954 - val_loss: 0.2730 - val_categorical_accuracy: 0.9423\n",
      "Epoch 38/50\n",
      "63/63 [==============================] - 9s 150ms/step - loss: 0.2778 - categorical_accuracy: 0.9503\n",
      "522/522 [==============================] - 127s 244ms/step - loss: 0.0267 - categorical_accuracy: 0.9908 - val_loss: 0.2778 - val_categorical_accuracy: 0.9503\n",
      "Epoch 39/50\n",
      "63/63 [==============================] - 8s 134ms/step - loss: 0.2255 - categorical_accuracy: 0.9375\n",
      "522/522 [==============================] - 125s 240ms/step - loss: 0.0167 - categorical_accuracy: 0.9944 - val_loss: 0.2255 - val_categorical_accuracy: 0.9375\n",
      "Epoch 40/50\n",
      "63/63 [==============================] - 8s 119ms/step - loss: 0.2389 - categorical_accuracy: 0.9375\n",
      "522/522 [==============================] - 126s 242ms/step - loss: 0.0200 - categorical_accuracy: 0.9927 - val_loss: 0.2389 - val_categorical_accuracy: 0.9375\n",
      "Epoch 41/50\n",
      "63/63 [==============================] - 7s 116ms/step - loss: 0.3311 - categorical_accuracy: 0.9391\n",
      "522/522 [==============================] - 124s 238ms/step - loss: 0.0138 - categorical_accuracy: 0.9944 - val_loss: 0.3311 - val_categorical_accuracy: 0.9391\n",
      "Epoch 42/50\n",
      "63/63 [==============================] - 8s 123ms/step - loss: 0.3219 - categorical_accuracy: 0.9487\n",
      "522/522 [==============================] - 124s 238ms/step - loss: 0.0222 - categorical_accuracy: 0.9918 - val_loss: 0.3219 - val_categorical_accuracy: 0.9487\n",
      "Epoch 43/50\n",
      "63/63 [==============================] - 7s 113ms/step - loss: 0.2143 - categorical_accuracy: 0.9551\n",
      "522/522 [==============================] - 124s 238ms/step - loss: 0.0173 - categorical_accuracy: 0.9935 - val_loss: 0.2143 - val_categorical_accuracy: 0.9551\n",
      "Epoch 44/50\n",
      "63/63 [==============================] - 8s 125ms/step - loss: 0.2453 - categorical_accuracy: 0.9567\n",
      "522/522 [==============================] - 125s 239ms/step - loss: 0.0126 - categorical_accuracy: 0.9946 - val_loss: 0.2453 - val_categorical_accuracy: 0.9567\n",
      "Epoch 45/50\n",
      "63/63 [==============================] - 9s 137ms/step - loss: 0.2697 - categorical_accuracy: 0.9487\n",
      "522/522 [==============================] - 126s 241ms/step - loss: 0.0247 - categorical_accuracy: 0.9908 - val_loss: 0.2697 - val_categorical_accuracy: 0.9487\n",
      "Epoch 46/50\n",
      "63/63 [==============================] - 8s 133ms/step - loss: 0.3949 - categorical_accuracy: 0.9343\n",
      "522/522 [==============================] - 125s 240ms/step - loss: 0.0179 - categorical_accuracy: 0.9933 - val_loss: 0.3949 - val_categorical_accuracy: 0.9343\n",
      "Epoch 47/50\n",
      "63/63 [==============================] - 7s 112ms/step - loss: 0.2866 - categorical_accuracy: 0.9551\n",
      "522/522 [==============================] - 124s 238ms/step - loss: 0.0239 - categorical_accuracy: 0.9910 - val_loss: 0.2866 - val_categorical_accuracy: 0.9551\n",
      "Epoch 48/50\n",
      "63/63 [==============================] - 6s 102ms/step - loss: 0.2996 - categorical_accuracy: 0.9487\n",
      "522/522 [==============================] - 124s 238ms/step - loss: 0.0188 - categorical_accuracy: 0.9946 - val_loss: 0.2996 - val_categorical_accuracy: 0.9487\n",
      "Epoch 49/50\n",
      "63/63 [==============================] - 8s 131ms/step - loss: 0.2984 - categorical_accuracy: 0.9439\n",
      "522/522 [==============================] - 125s 240ms/step - loss: 0.0207 - categorical_accuracy: 0.9925 - val_loss: 0.2984 - val_categorical_accuracy: 0.9439\n",
      "Epoch 50/50\n",
      "63/63 [==============================] - 7s 112ms/step - loss: 0.3022 - categorical_accuracy: 0.9455\n",
      "522/522 [==============================] - 123s 236ms/step - loss: 0.0130 - categorical_accuracy: 0.9954 - val_loss: 0.3022 - val_categorical_accuracy: 0.9455\n"
     ]
    }
   ],
   "source": [
    "import math\n",
    "\n",
    "history = model.fit_generator(\n",
    "      training_set,\n",
    "      steps_per_epoch=math.ceil(number_of_training_samples//batch_size),\n",
    "      epochs=no_of_epochs,\n",
    "      callbacks=callbacks_list,\n",
    "      validation_data=test_set,\n",
    "      validation_steps=math.ceil(number_of_test_samples//batch_size))"
   ]
  },
  {
   "cell_type": "markdown",
   "metadata": {},
   "source": [
    "## Visualizing the Training Process"
   ]
  },
  {
   "cell_type": "code",
   "execution_count": 11,
   "metadata": {},
   "outputs": [
    {
     "data": {
      "image/png": "[encoded data removed]",
      "text/plain": [
       "<Figure size 432x288 with 1 Axes>"
      ]
     },
     "metadata": {
      "needs_background": "light"
     },
     "output_type": "display_data"
    },
    {
     "data": {
      "image/png": "[encoded data removed]",
      "text/plain": [
       "<Figure size 432x288 with 1 Axes>"
      ]
     },
     "metadata": {
      "needs_background": "light"
     },
     "output_type": "display_data"
    }
   ],
   "source": [
    "import matplotlib.pyplot as plt\n",
    "%matplotlib inline\n",
    "\n",
    "acc=history.history['categorical_accuracy']\n",
    "val_acc=history.history['val_categorical_accuracy']\n",
    "loss=history.history['loss']\n",
    "val_loss=history.history['val_loss']\n",
    "epochs=range(1,len(acc)+1)\n",
    "plt.xlabel('Epochs')\n",
    "plt.ylabel('Accuracy')\n",
    "plt.plot(epochs, acc, 'bo', label='Training acc')\n",
    "plt.plot(epochs, val_acc, 'b', label='Validation acc')\n",
    "plt.title('Training and validation accuracy')\n",
    "plt.legend()\n",
    "plt.savefig('Pneumonia_vs_Normal_VGG16_Transfer_Learning_2nd_attempt_a',format='png')\n",
    "plt.figure()\n",
    "\n",
    "plt.plot(epochs, loss, 'bo', label='Training loss')\n",
    "plt.plot(epochs, val_loss, 'b', label='Validation loss')\n",
    "plt.title('Training and validation loss')\n",
    "plt.xlabel('Epochs')\n",
    "plt.ylabel('Loss')\n",
    "plt.legend()\n",
    "plt.savefig('Pneumonia_vs_Normal_VGG16_Transfer_Learning_2nd_attempt_b',format='png')\n",
    "plt.show()"
   ]
  },
  {
   "cell_type": "markdown",
   "metadata": {},
   "source": [
    "## Loading the Best Model"
   ]
  },
  {
   "cell_type": "code",
   "execution_count": 12,
   "metadata": {},
   "outputs": [],
   "source": [
    "from tensorflow.python.keras.models import load_model\n",
    "\n",
    "best_model = load_model('VGG16_fine_tuning_part_1_2nd_attempt_Pneumonia_vs_Normal_best_model.h5')"
   ]
  },
  {
   "cell_type": "markdown",
   "metadata": {},
   "source": [
    "## Evaluating the Best Model"
   ]
  },
  {
   "cell_type": "code",
   "execution_count": 13,
   "metadata": {},
   "outputs": [
    {
     "name": "stdout",
     "output_type": "stream",
     "text": [
      "63/63 [==============================] - 7s 108ms/step - loss: 0.1201 - categorical_accuracy: 0.9599\n",
      "Test-set classification accuracy: 95.99%\n"
     ]
    }
   ],
   "source": [
    "steps_test=int(number_of_test_samples/batch_size)\n",
    "result = best_model.evaluate_generator(test_set, steps=steps_test,verbose=1)\n",
    "print(\"Test-set classification accuracy: {0:.2%}\".format(result[1]))"
   ]
  },
  {
   "cell_type": "code",
   "execution_count": 14,
   "metadata": {},
   "outputs": [],
   "source": [
    "best_model_after_transfer_learning=best_model"
   ]
  },
  {
   "cell_type": "markdown",
   "metadata": {},
   "source": [
    "## Unfreeze Some Layers in the Convolutional Base\n",
    "The first 3 steps of fine-tuning a network (mentioned above) have been completed. Now, I will unfreeze the `conv_base` and then freeze/unfreeze individual layers inside it. I will fine-tune the last three convolutional layers, which means all layers up to `block4_pool` should be frozen, and the layers `block5_conv1`, `block5_conv2`, and `block5_conv3` should be trainable."
   ]
  },
  {
   "cell_type": "code",
   "execution_count": 15,
   "metadata": {},
   "outputs": [],
   "source": [
    "conv_base.trainable = True\n",
    "\n",
    "set_trainable = False\n",
    "for layer in conv_base.layers:\n",
    "    if layer.name == 'block5_conv1':\n",
    "        set_trainable = True\n",
    "    if set_trainable:\n",
    "        layer.trainable = True\n",
    "    else:\n",
    "        layer.trainable = False"
   ]
  },
  {
   "cell_type": "markdown",
   "metadata": {},
   "source": [
    "## Jointly train both the Unfrozen Layers and the added Classifier"
   ]
  },
  {
   "cell_type": "code",
   "execution_count": 16,
   "metadata": {},
   "outputs": [],
   "source": [
    "filepath=\"VGG16_fine_tuning_part_2_2nd_attempt_Pneumonia_vs_Normal_best_model.h5\"\n",
    "checkpoint = ModelCheckpoint(filepath, monitor='val_categorical_accuracy', save_best_only=True)\n",
    "callbacks_list = [checkpoint]"
   ]
  },
  {
   "cell_type": "code",
   "execution_count": 17,
   "metadata": {},
   "outputs": [],
   "source": [
    "best_model.compile(loss='categorical_crossentropy',optimizer=optimizers.Adam(lr=1e-5),metrics=['categorical_accuracy'])"
   ]
  },
  {
   "cell_type": "code",
   "execution_count": 18,
   "metadata": {},
   "outputs": [
    {
     "name": "stdout",
     "output_type": "stream",
     "text": [
      "Epoch 1/50\n",
      "63/63 [==============================] - 8s 125ms/step - loss: 0.1980 - categorical_accuracy: 0.9519\n",
      "522/522 [==============================] - 127s 243ms/step - loss: 0.0115 - categorical_accuracy: 0.9954 - val_loss: 0.1980 - val_categorical_accuracy: 0.9519\n",
      "Epoch 2/50\n",
      "63/63 [==============================] - 8s 129ms/step - loss: 0.1757 - categorical_accuracy: 0.9551\n",
      "522/522 [==============================] - 126s 242ms/step - loss: 0.0085 - categorical_accuracy: 0.9977 - val_loss: 0.1757 - val_categorical_accuracy: 0.9551\n",
      "Epoch 3/50\n",
      "63/63 [==============================] - 7s 117ms/step - loss: 0.2303 - categorical_accuracy: 0.9519\n",
      "522/522 [==============================] - 125s 240ms/step - loss: 0.0089 - categorical_accuracy: 0.9975 - val_loss: 0.2303 - val_categorical_accuracy: 0.9519\n",
      "Epoch 4/50\n",
      "63/63 [==============================] - 9s 137ms/step - loss: 0.2806 - categorical_accuracy: 0.9503\n",
      "522/522 [==============================] - 125s 240ms/step - loss: 0.0047 - categorical_accuracy: 0.9981 - val_loss: 0.2806 - val_categorical_accuracy: 0.9503\n",
      "Epoch 5/50\n",
      "63/63 [==============================] - 8s 124ms/step - loss: 0.2126 - categorical_accuracy: 0.9471\n",
      "522/522 [==============================] - 126s 241ms/step - loss: 0.0044 - categorical_accuracy: 0.9981 - val_loss: 0.2126 - val_categorical_accuracy: 0.9471\n",
      "Epoch 6/50\n",
      "63/63 [==============================] - 9s 140ms/step - loss: 0.3079 - categorical_accuracy: 0.9471\n",
      "522/522 [==============================] - 125s 240ms/step - loss: 0.0019 - categorical_accuracy: 0.9990 - val_loss: 0.3079 - val_categorical_accuracy: 0.9471\n",
      "Epoch 7/50\n",
      "63/63 [==============================] - 10s 159ms/step - loss: 0.3194 - categorical_accuracy: 0.9551\n",
      "522/522 [==============================] - 127s 244ms/step - loss: 0.0052 - categorical_accuracy: 0.9981 - val_loss: 0.3194 - val_categorical_accuracy: 0.9551\n",
      "Epoch 8/50\n",
      "63/63 [==============================] - 7s 107ms/step - loss: 0.3551 - categorical_accuracy: 0.9551\n",
      "522/522 [==============================] - 126s 242ms/step - loss: 0.0034 - categorical_accuracy: 0.9988 - val_loss: 0.3551 - val_categorical_accuracy: 0.9551\n",
      "Epoch 9/50\n",
      "63/63 [==============================] - 8s 128ms/step - loss: 0.3374 - categorical_accuracy: 0.9519\n",
      "522/522 [==============================] - 126s 241ms/step - loss: 0.0027 - categorical_accuracy: 0.9990 - val_loss: 0.3374 - val_categorical_accuracy: 0.9519\n",
      "Epoch 10/50\n",
      "63/63 [==============================] - 8s 128ms/step - loss: 0.4305 - categorical_accuracy: 0.9471\n",
      "522/522 [==============================] - 126s 242ms/step - loss: 0.0020 - categorical_accuracy: 0.9992 - val_loss: 0.4305 - val_categorical_accuracy: 0.9471\n",
      "Epoch 11/50\n",
      "63/63 [==============================] - 9s 143ms/step - loss: 0.3896 - categorical_accuracy: 0.9551\n",
      "522/522 [==============================] - 130s 249ms/step - loss: 0.0013 - categorical_accuracy: 0.9996 - val_loss: 0.3896 - val_categorical_accuracy: 0.9551\n",
      "Epoch 12/50\n",
      "63/63 [==============================] - 8s 132ms/step - loss: 0.2435 - categorical_accuracy: 0.9519\n",
      "522/522 [==============================] - 129s 247ms/step - loss: 0.0056 - categorical_accuracy: 0.9983 - val_loss: 0.2435 - val_categorical_accuracy: 0.9519\n",
      "Epoch 13/50\n",
      "63/63 [==============================] - 8s 126ms/step - loss: 0.3683 - categorical_accuracy: 0.9519\n",
      "522/522 [==============================] - 126s 242ms/step - loss: 0.0046 - categorical_accuracy: 0.9983 - val_loss: 0.3683 - val_categorical_accuracy: 0.9519\n",
      "Epoch 14/50\n",
      "63/63 [==============================] - 10s 152ms/step - loss: 0.3484 - categorical_accuracy: 0.9519\n",
      "522/522 [==============================] - 126s 242ms/step - loss: 0.0021 - categorical_accuracy: 0.9988 - val_loss: 0.3484 - val_categorical_accuracy: 0.9519\n",
      "Epoch 15/50\n",
      "63/63 [==============================] - 8s 120ms/step - loss: 0.3182 - categorical_accuracy: 0.9503\n",
      "522/522 [==============================] - 126s 242ms/step - loss: 0.0038 - categorical_accuracy: 0.9990 - val_loss: 0.3182 - val_categorical_accuracy: 0.9503\n",
      "Epoch 16/50\n",
      "63/63 [==============================] - 8s 126ms/step - loss: 0.3843 - categorical_accuracy: 0.9519\n",
      "522/522 [==============================] - 126s 242ms/step - loss: 0.0011 - categorical_accuracy: 0.9998 - val_loss: 0.3843 - val_categorical_accuracy: 0.9519\n",
      "Epoch 17/50\n",
      "63/63 [==============================] - 8s 130ms/step - loss: 0.3839 - categorical_accuracy: 0.9551\n",
      "522/522 [==============================] - 125s 239ms/step - loss: 0.0017 - categorical_accuracy: 0.9992 - val_loss: 0.3839 - val_categorical_accuracy: 0.9551\n",
      "Epoch 18/50\n",
      "63/63 [==============================] - 8s 124ms/step - loss: 0.2938 - categorical_accuracy: 0.9535\n",
      "522/522 [==============================] - 124s 238ms/step - loss: 0.0044 - categorical_accuracy: 0.9990 - val_loss: 0.2938 - val_categorical_accuracy: 0.9535\n",
      "Epoch 19/50\n",
      "63/63 [==============================] - 7s 114ms/step - loss: 0.3287 - categorical_accuracy: 0.9519\n",
      "522/522 [==============================] - 125s 239ms/step - loss: 0.0012 - categorical_accuracy: 0.9994 - val_loss: 0.3287 - val_categorical_accuracy: 0.9519\n",
      "Epoch 20/50\n",
      "63/63 [==============================] - 7s 117ms/step - loss: 0.3045 - categorical_accuracy: 0.9567\n",
      "522/522 [==============================] - 123s 236ms/step - loss: 0.0010 - categorical_accuracy: 0.9994 - val_loss: 0.3045 - val_categorical_accuracy: 0.9567\n",
      "Epoch 21/50\n",
      "63/63 [==============================] - 7s 112ms/step - loss: 0.3377 - categorical_accuracy: 0.9535\n",
      "522/522 [==============================] - 123s 235ms/step - loss: 0.0028 - categorical_accuracy: 0.9990 - val_loss: 0.3377 - val_categorical_accuracy: 0.9535\n",
      "Epoch 22/50\n",
      "63/63 [==============================] - 7s 114ms/step - loss: 0.4483 - categorical_accuracy: 0.9439\n",
      "522/522 [==============================] - 123s 236ms/step - loss: 0.0024 - categorical_accuracy: 0.9988 - val_loss: 0.4483 - val_categorical_accuracy: 0.9439\n",
      "Epoch 23/50\n",
      "63/63 [==============================] - 8s 124ms/step - loss: 0.3496 - categorical_accuracy: 0.9535\n",
      "522/522 [==============================] - 123s 236ms/step - loss: 9.9996e-04 - categorical_accuracy: 0.9998 - val_loss: 0.3496 - val_categorical_accuracy: 0.9535\n",
      "Epoch 24/50\n",
      "63/63 [==============================] - 7s 112ms/step - loss: 0.2988 - categorical_accuracy: 0.9535\n",
      "522/522 [==============================] - 123s 235ms/step - loss: 0.0014 - categorical_accuracy: 0.9996 - val_loss: 0.2988 - val_categorical_accuracy: 0.9535\n",
      "Epoch 25/50\n",
      "63/63 [==============================] - 6s 103ms/step - loss: 0.3090 - categorical_accuracy: 0.9535\n",
      "522/522 [==============================] - 122s 235ms/step - loss: 0.0064 - categorical_accuracy: 0.9985 - val_loss: 0.3090 - val_categorical_accuracy: 0.9535\n",
      "Epoch 26/50\n",
      "63/63 [==============================] - 7s 104ms/step - loss: 0.3482 - categorical_accuracy: 0.9503\n",
      "522/522 [==============================] - 120s 230ms/step - loss: 0.0016 - categorical_accuracy: 0.9992 - val_loss: 0.3482 - val_categorical_accuracy: 0.9503\n",
      "Epoch 27/50\n",
      "63/63 [==============================] - 7s 105ms/step - loss: 0.3147 - categorical_accuracy: 0.9519\n",
      "522/522 [==============================] - 120s 230ms/step - loss: 0.0014 - categorical_accuracy: 0.9996 - val_loss: 0.3147 - val_categorical_accuracy: 0.9519\n",
      "Epoch 28/50\n",
      "63/63 [==============================] - 7s 105ms/step - loss: 0.3781 - categorical_accuracy: 0.9487\n",
      "522/522 [==============================] - 120s 230ms/step - loss: 3.0903e-04 - categorical_accuracy: 1.0000 - val_loss: 0.3781 - val_categorical_accuracy: 0.9487\n",
      "Epoch 29/50\n",
      "63/63 [==============================] - 7s 104ms/step - loss: 0.3852 - categorical_accuracy: 0.9583\n",
      "522/522 [==============================] - 120s 231ms/step - loss: 0.0012 - categorical_accuracy: 0.9996 - val_loss: 0.3852 - val_categorical_accuracy: 0.9583\n",
      "Epoch 30/50\n",
      "63/63 [==============================] - 7s 105ms/step - loss: 0.3633 - categorical_accuracy: 0.9567\n",
      "522/522 [==============================] - 120s 231ms/step - loss: 0.0032 - categorical_accuracy: 0.9990 - val_loss: 0.3633 - val_categorical_accuracy: 0.9567\n",
      "Epoch 31/50\n",
      "63/63 [==============================] - 7s 106ms/step - loss: 0.4514 - categorical_accuracy: 0.9455\n",
      "522/522 [==============================] - 120s 230ms/step - loss: 9.2683e-04 - categorical_accuracy: 0.9996 - val_loss: 0.4514 - val_categorical_accuracy: 0.9455\n",
      "Epoch 32/50\n",
      "63/63 [==============================] - 7s 105ms/step - loss: 0.3823 - categorical_accuracy: 0.9487\n",
      "522/522 [==============================] - 120s 231ms/step - loss: 0.0031 - categorical_accuracy: 0.9990 - val_loss: 0.3823 - val_categorical_accuracy: 0.9487\n",
      "Epoch 33/50\n",
      "63/63 [==============================] - 7s 104ms/step - loss: 0.4842 - categorical_accuracy: 0.9375\n",
      "522/522 [==============================] - 120s 230ms/step - loss: 5.1897e-04 - categorical_accuracy: 0.9998 - val_loss: 0.4842 - val_categorical_accuracy: 0.9375\n",
      "Epoch 34/50\n",
      "63/63 [==============================] - 7s 105ms/step - loss: 0.3994 - categorical_accuracy: 0.9551\n",
      "522/522 [==============================] - 120s 230ms/step - loss: 0.0011 - categorical_accuracy: 0.9996 - val_loss: 0.3994 - val_categorical_accuracy: 0.9551\n",
      "Epoch 35/50\n",
      "63/63 [==============================] - 7s 104ms/step - loss: 0.4410 - categorical_accuracy: 0.9535\n",
      "522/522 [==============================] - 120s 230ms/step - loss: 9.5317e-04 - categorical_accuracy: 0.9996 - val_loss: 0.4410 - val_categorical_accuracy: 0.9535\n",
      "Epoch 36/50\n",
      "63/63 [==============================] - 7s 103ms/step - loss: 0.5582 - categorical_accuracy: 0.9359\n",
      "522/522 [==============================] - 120s 230ms/step - loss: 7.5412e-04 - categorical_accuracy: 0.9998 - val_loss: 0.5582 - val_categorical_accuracy: 0.9359\n",
      "Epoch 37/50\n",
      "63/63 [==============================] - 7s 105ms/step - loss: 0.4226 - categorical_accuracy: 0.9455\n",
      "522/522 [==============================] - 120s 230ms/step - loss: 0.0037 - categorical_accuracy: 0.9987 - val_loss: 0.4226 - val_categorical_accuracy: 0.9455\n",
      "Epoch 38/50\n",
      "63/63 [==============================] - 7s 104ms/step - loss: 0.2740 - categorical_accuracy: 0.9535\n",
      "522/522 [==============================] - 120s 230ms/step - loss: 0.0026 - categorical_accuracy: 0.9992 - val_loss: 0.2740 - val_categorical_accuracy: 0.9535\n",
      "Epoch 39/50\n",
      "63/63 [==============================] - 7s 105ms/step - loss: 0.3542 - categorical_accuracy: 0.9503\n",
      "522/522 [==============================] - 120s 230ms/step - loss: 4.9272e-04 - categorical_accuracy: 0.9998 - val_loss: 0.3542 - val_categorical_accuracy: 0.9503\n",
      "Epoch 40/50\n",
      "63/63 [==============================] - 7s 104ms/step - loss: 0.3449 - categorical_accuracy: 0.9567\n",
      "522/522 [==============================] - 120s 231ms/step - loss: 7.5605e-04 - categorical_accuracy: 0.9998 - val_loss: 0.3449 - val_categorical_accuracy: 0.9567\n",
      "Epoch 41/50\n",
      "63/63 [==============================] - 7s 105ms/step - loss: 0.3892 - categorical_accuracy: 0.9503\n",
      "522/522 [==============================] - 120s 231ms/step - loss: 0.0024 - categorical_accuracy: 0.9994 - val_loss: 0.3892 - val_categorical_accuracy: 0.9503\n",
      "Epoch 42/50\n",
      "63/63 [==============================] - 7s 105ms/step - loss: 0.3098 - categorical_accuracy: 0.9567\n",
      "522/522 [==============================] - 120s 231ms/step - loss: 0.0024 - categorical_accuracy: 0.9992 - val_loss: 0.3098 - val_categorical_accuracy: 0.9567\n",
      "Epoch 43/50\n",
      "63/63 [==============================] - 7s 104ms/step - loss: 0.4037 - categorical_accuracy: 0.9439\n",
      "522/522 [==============================] - 120s 230ms/step - loss: 5.2361e-04 - categorical_accuracy: 0.9996 - val_loss: 0.4037 - val_categorical_accuracy: 0.9439\n",
      "Epoch 44/50\n",
      "63/63 [==============================] - 7s 104ms/step - loss: 0.4080 - categorical_accuracy: 0.9535\n",
      "522/522 [==============================] - 120s 230ms/step - loss: 0.0019 - categorical_accuracy: 0.9992 - val_loss: 0.4080 - val_categorical_accuracy: 0.9535\n",
      "Epoch 45/50\n",
      "63/63 [==============================] - 7s 105ms/step - loss: 0.3678 - categorical_accuracy: 0.9535\n",
      "522/522 [==============================] - 120s 231ms/step - loss: 0.0011 - categorical_accuracy: 0.9996 - val_loss: 0.3678 - val_categorical_accuracy: 0.9535\n",
      "Epoch 46/50\n",
      "63/63 [==============================] - 7s 104ms/step - loss: 0.4003 - categorical_accuracy: 0.9535\n",
      "522/522 [==============================] - 120s 230ms/step - loss: 1.2721e-04 - categorical_accuracy: 1.0000 - val_loss: 0.4003 - val_categorical_accuracy: 0.9535\n",
      "Epoch 47/50\n",
      "63/63 [==============================] - 7s 109ms/step - loss: 0.5729 - categorical_accuracy: 0.9455\n",
      "522/522 [==============================] - 121s 231ms/step - loss: 0.0014 - categorical_accuracy: 0.9994 - val_loss: 0.5729 - val_categorical_accuracy: 0.9455\n",
      "Epoch 48/50\n",
      "63/63 [==============================] - 7s 106ms/step - loss: 0.4729 - categorical_accuracy: 0.9535\n",
      "522/522 [==============================] - 120s 231ms/step - loss: 0.0019 - categorical_accuracy: 0.9996 - val_loss: 0.4729 - val_categorical_accuracy: 0.9535\n",
      "Epoch 49/50\n",
      "63/63 [==============================] - 7s 106ms/step - loss: 0.4464 - categorical_accuracy: 0.9535\n",
      "522/522 [==============================] - 120s 230ms/step - loss: 0.0018 - categorical_accuracy: 0.9996 - val_loss: 0.4464 - val_categorical_accuracy: 0.9535\n",
      "Epoch 50/50\n",
      "63/63 [==============================] - 7s 105ms/step - loss: 0.4147 - categorical_accuracy: 0.9503\n",
      "522/522 [==============================] - 120s 230ms/step - loss: 0.0015 - categorical_accuracy: 0.9992 - val_loss: 0.4147 - val_categorical_accuracy: 0.9503\n"
     ]
    }
   ],
   "source": [
    "import math\n",
    "\n",
    "history = best_model.fit_generator(\n",
    "      training_set,\n",
    "      steps_per_epoch=math.ceil(number_of_training_samples//batch_size),\n",
    "      epochs=no_of_epochs,\n",
    "      callbacks=callbacks_list,\n",
    "      validation_data=test_set,\n",
    "      validation_steps=math.ceil(number_of_test_samples//batch_size))"
   ]
  },
  {
   "cell_type": "markdown",
   "metadata": {},
   "source": [
    "## Loading the Best Model after Fine Tuning"
   ]
  },
  {
   "cell_type": "code",
   "execution_count": 19,
   "metadata": {},
   "outputs": [],
   "source": [
    "best_model_fine_tuned = load_model('VGG16_fine_tuning_part_2_2nd_attempt_Pneumonia_vs_Normal_best_model.h5')"
   ]
  },
  {
   "cell_type": "markdown",
   "metadata": {},
   "source": [
    "## Evaluating the Best Model after Fine Tuning"
   ]
  },
  {
   "cell_type": "code",
   "execution_count": 20,
   "metadata": {},
   "outputs": [
    {
     "name": "stdout",
     "output_type": "stream",
     "text": [
      "63/63 [==============================] - 6s 94ms/step - loss: 0.3852 - categorical_accuracy: 0.9583\n",
      "Test-set classification accuracy: 95.83%\n"
     ]
    }
   ],
   "source": [
    "steps_test=int(17540/32)\n",
    "result = best_model_fine_tuned.evaluate_generator(test_set, steps=steps_test,verbose=1)\n",
    "print(\"Test-set classification accuracy: {0:.2%}\".format(result[1]))"
   ]
  },
  {
   "cell_type": "markdown",
   "metadata": {},
   "source": [
    "## Calculating Precision, Specificity and Sensitivity (Recall) values for the model before and after Fine Tuning\n",
    "Precision-Recall is a useful measure of success of prediction when the classes are very imbalanced. High precision relates to a low false positive rate, and high recall relates to a low false negative rate.\n",
    "\n",
    "Precision is defined as the number of true positives over the number of true positives plus the number of false positives. Recall is defined as the number of true positives over the number of true positives plus the number of false negatives. Please see the [link](https://scikit-learn.org/stable/auto_examples/model_selection/plot_precision_recall.html) for details.\n",
    "\n",
    "Another way of assessing a binary classification model is to compute the sensitivity (also called the true positive rate or the recall) and specificity (also called the true negative rate) of the model. Sensitivity indicates the percentage of sick people who are correctly identified as having the condition. Specificity indicates the percentage of healthy people who are correctly identified as not having the condition.\n",
    "\n",
    "But first we prepare our test data, so that later we can draw the confusion matrix as well as calculate precision, specificity and sensitivity (recall) of the model."
   ]
  },
  {
   "cell_type": "code",
   "execution_count": 21,
   "metadata": {},
   "outputs": [
    {
     "name": "stdout",
     "output_type": "stream",
     "text": [
      "Total number of test examples:  (624, 150, 150, 3)\n",
      "Total number of labels: (624, 1)\n"
     ]
    }
   ],
   "source": [
    "# Preparing test data\n",
    "import glob\n",
    "from pathlib import Path\n",
    "from tensorflow.python.keras.utils import to_categorical\n",
    "import cv2\n",
    "\n",
    "normal_cases_dir = Path('D:\\\\TensorFlow Programs\\\\Diagnosis of Pneumonia based on Chest X-Rays\\\\chest-xray-pneumonia\\\\chest_xray\\\\chest_xray\\\\test\\\\NORMAL')\n",
    "pneumonia_cases_dir = Path('D:\\\\TensorFlow Programs\\\\Diagnosis of Pneumonia based on Chest X-Rays\\\\chest-xray-pneumonia\\\\chest_xray\\\\chest_xray\\\\test\\\\PNEUMONIA')\n",
    "\n",
    "normal_cases = normal_cases_dir.glob('*.jpeg')\n",
    "pneumonia_cases = pneumonia_cases_dir.glob('*.jpeg')\n",
    "\n",
    "test_data = []\n",
    "test_labels = []\n",
    "\n",
    "for img in normal_cases:\n",
    "    img = cv2.imread(str(img))\n",
    "    img = cv2.resize(img, (image_width,image_height))\n",
    "    if img.shape[2] ==1:\n",
    "        img = np.dstack([img, img, img])\n",
    "    else:\n",
    "        img = cv2.cvtColor(img, cv2.COLOR_BGR2RGB)\n",
    "    img = img.astype(np.float32)/255.\n",
    "    label = [0]\n",
    "    test_data.append(img)\n",
    "    test_labels.append(label)\n",
    "                      \n",
    "for img in pneumonia_cases:\n",
    "    img = cv2.imread(str(img))\n",
    "    img = cv2.resize(img, (image_width,image_height))\n",
    "    if img.shape[2] ==1:\n",
    "        img = np.dstack([img, img, img])\n",
    "    else:\n",
    "        img = cv2.cvtColor(img, cv2.COLOR_BGR2RGB)\n",
    "    img = img.astype(np.float32)/255.\n",
    "    label = [1]\n",
    "    test_data.append(img)\n",
    "    test_labels.append(label)\n",
    "    \n",
    "\n",
    "test_data = np.array(test_data)\n",
    "test_labels = np.array(test_labels)\n",
    "test_labels_one_hot_encoding=to_categorical(test_labels)\n",
    "\n",
    "print(\"Total number of test examples: \", test_data.shape)\n",
    "print(\"Total number of labels:\", test_labels.shape)"
   ]
  },
  {
   "cell_type": "code",
   "execution_count": 22,
   "metadata": {},
   "outputs": [
    {
     "name": "stdout",
     "output_type": "stream",
     "text": [
      "624/624 [==============================] - 4s 7ms/sample - loss: 0.3733 - categorical_accuracy: 0.9567\n",
      "Loss on test set:  0.3732525474313177\n",
      "Accuracy on test set:  0.9567308\n"
     ]
    }
   ],
   "source": [
    "# Evaluation on test dataset\n",
    "\n",
    "test_loss, test_score = best_model_fine_tuned.evaluate(test_data, test_labels_one_hot_encoding, batch_size=16)\n",
    "print(\"Loss on test set: \", test_loss)\n",
    "print(\"Accuracy on test set: \", test_score)"
   ]
  },
  {
   "cell_type": "code",
   "execution_count": 23,
   "metadata": {},
   "outputs": [
    {
     "name": "stdout",
     "output_type": "stream",
     "text": [
      "624/624 [==============================] - 4s 6ms/sample\n",
      "(624, 1)\n",
      "(624, 1)\n"
     ]
    }
   ],
   "source": [
    "# Get predictions\n",
    "preds = best_model_fine_tuned.predict(test_data, batch_size=16,verbose=1)\n",
    "preds=np.around(preds)\n",
    "orig_test_labels=test_labels\n",
    "predicted_labels=np.argmax(preds,axis=1)\n",
    "predicted_labels=np.reshape(predicted_labels,(624,1))\n",
    "print(predicted_labels.shape)\n",
    "print(orig_test_labels.shape)"
   ]
  },
  {
   "cell_type": "code",
   "execution_count": 24,
   "metadata": {},
   "outputs": [
    {
     "data": {
      "text/plain": [
       "<Figure size 432x288 with 0 Axes>"
      ]
     },
     "metadata": {},
     "output_type": "display_data"
    },
    {
     "data": {
      "image/png": "[encoded data removed]",
      "text/plain": [
       "<Figure size 864x576 with 1 Axes>"
      ]
     },
     "metadata": {
      "needs_background": "light"
     },
     "output_type": "display_data"
    }
   ],
   "source": [
    "import matplotlib.pyplot as plt\n",
    "%matplotlib inline\n",
    "# Get the confusion matrix\n",
    "from sklearn.metrics import confusion_matrix\n",
    "from mlxtend.plotting import plot_confusion_matrix\n",
    "\n",
    "cm  = confusion_matrix(orig_test_labels, predicted_labels)\n",
    "plt.figure()\n",
    "plot_confusion_matrix(cm,figsize=(12,8), hide_ticks=True,cmap=plt.cm.Blues)\n",
    "plt.xticks(range(2), ['Normal', 'Pneumonia'], fontsize=16)\n",
    "plt.yticks(range(2), ['Normal', 'Pneumonia'], fontsize=16)\n",
    "plt.show()"
   ]
  },
  {
   "cell_type": "code",
   "execution_count": 25,
   "metadata": {},
   "outputs": [
    {
     "name": "stdout",
     "output_type": "stream",
     "text": [
      "Sensitivity (Recall) of the model is 0.987\n",
      "Specificity of the model is 0.906\n",
      "Precision of the model is 0.946\n"
     ]
    }
   ],
   "source": [
    "# Calculate Precision and Recall\n",
    "tn, fp, fn, tp = cm.ravel()\n",
    "\n",
    "precision = tp/(tp+fp)\n",
    "recall = tp/(tp+fn)\n",
    "specificity=tn/(tn+fp)\n",
    "\n",
    "print(\"Sensitivity (Recall) of the model is {:.3f}\".format(recall))\n",
    "print(\"Specificity of the model is {:.3f}\".format(specificity))\n",
    "print(\"Precision of the model is {:.3f}\".format(precision))"
   ]
  },
  {
   "cell_type": "markdown",
   "metadata": {},
   "source": [
    "## ROC Curve and AUC for the model\n",
    "\n",
    "A useful tool when predicting the probability of a binary outcome is the **Receiver Operating Characteristic** curve, or ROC curve. It is a plot of the false positive rate (x-axis) versus the true positive rate (y-axis) for a number of different candidate threshold values between 0.0 and 1.0.\n",
    "\n",
    "Generally, skilful models are represented by curves that bow up to the top left of the plot. A model with no skill is represented at the point [0.5, 0.5]. A model with no skill at each threshold is represented by a diagonal line from the bottom left of the plot to the top right and has an AUC of 0.5. A model with perfect skill is represented at a point [0.0 ,1.0]. A model with perfect skill is represented by a line that travels from the bottom left of the plot to the top left and then across the top to the top right."
   ]
  },
  {
   "cell_type": "code",
   "execution_count": 33,
   "metadata": {},
   "outputs": [],
   "source": [
    "from sklearn.metrics import roc_curve\n",
    "\n",
    "probs = best_model_fine_tuned.predict_proba(test_data)\n",
    "preds = probs[:,1]\n",
    "fpr, tpr, thresholds = roc_curve(test_labels.ravel(), preds)"
   ]
  },
  {
   "cell_type": "code",
   "execution_count": 34,
   "metadata": {},
   "outputs": [],
   "source": [
    "from sklearn.metrics import auc\n",
    "auc_var = auc(fpr, tpr)"
   ]
  },
  {
   "cell_type": "code",
   "execution_count": 35,
   "metadata": {},
   "outputs": [
    {
     "data": {
      "image/png": "[encoded data removed]",
      "text/plain": [
       "<Figure size 432x288 with 1 Axes>"
      ]
     },
     "metadata": {
      "needs_background": "light"
     },
     "output_type": "display_data"
    }
   ],
   "source": [
    "import matplotlib.pyplot as plt\n",
    "%matplotlib inline\n",
    "plt.figure(1)\n",
    "plt.plot([0, 1], [0, 1], 'k--')\n",
    "plt.plot(fpr, tpr, label='VGG16 based Model after Fine Tuning (area = {:.3f})'.format(auc_var))\n",
    "plt.xlabel('False positive rate')\n",
    "plt.ylabel('True positive rate')\n",
    "plt.title('ROC curve')\n",
    "plt.legend(loc='best')\n",
    "plt.show()"
   ]
  },
  {
   "cell_type": "markdown",
   "metadata": {},
   "source": [
    "## Precision-Recall Curve for the Model"
   ]
  },
  {
   "cell_type": "code",
   "execution_count": 36,
   "metadata": {},
   "outputs": [],
   "source": [
    "from sklearn.metrics import precision_recall_curve\n",
    "from sklearn.metrics import f1_score\n",
    "from sklearn.metrics import average_precision_score"
   ]
  },
  {
   "cell_type": "code",
   "execution_count": 37,
   "metadata": {},
   "outputs": [],
   "source": [
    "precision, recall, thresholds = precision_recall_curve(test_labels.ravel(), preds)"
   ]
  },
  {
   "cell_type": "code",
   "execution_count": 38,
   "metadata": {},
   "outputs": [],
   "source": [
    "auc_var2 = auc(recall, precision)"
   ]
  },
  {
   "cell_type": "code",
   "execution_count": 42,
   "metadata": {},
   "outputs": [
    {
     "data": {
      "image/png": "[encoded data removed]",
      "text/plain": [
       "<Figure size 432x288 with 1 Axes>"
      ]
     },
     "metadata": {
      "needs_background": "light"
     },
     "output_type": "display_data"
    }
   ],
   "source": [
    "plt.figure()\n",
    "plt.plot(recall, precision, label='VGG16 based Model after Fine Tuning (area = {:.3f})'.format(auc_var2))\n",
    "plt.xlabel('Recall')\n",
    "plt.ylabel('Precision')\n",
    "plt.title('Precision-Recall curve')\n",
    "plt.legend(loc='best')\n",
    "plt.show()"
   ]
  },
  {
   "cell_type": "code",
   "execution_count": 43,
   "metadata": {},
   "outputs": [
    {
     "name": "stdout",
     "output_type": "stream",
     "text": [
      "Average Precision Score: 0.987\n"
     ]
    }
   ],
   "source": [
    "print('Average Precision Score: {:.3f}'.format(average_precision_score(test_labels.ravel(), preds)))"
   ]
  },
  {
   "cell_type": "code",
   "execution_count": 44,
   "metadata": {},
   "outputs": [
    {
     "name": "stdout",
     "output_type": "stream",
     "text": [
      "F1 Score: 0.966\n"
     ]
    }
   ],
   "source": [
    "print(\"F1 Score: {:.3f}\".format(f1_score(test_labels.ravel(),predicted_labels.ravel())))"
   ]
  }
 ],
 "metadata": {
  "kernelspec": {
   "display_name": "Python 3",
   "language": "python",
   "name": "python3"
  },
  "language_info": {
   "codemirror_mode": {
    "name": "ipython",
    "version": 3
   },
   "file_extension": ".py",
   "mimetype": "text/x-python",
   "name": "python",
   "nbconvert_exporter": "python",
   "pygments_lexer": "ipython3",
   "version": "3.6.8"
  }
 },
 "nbformat": 4,
 "nbformat_minor": 2
}
